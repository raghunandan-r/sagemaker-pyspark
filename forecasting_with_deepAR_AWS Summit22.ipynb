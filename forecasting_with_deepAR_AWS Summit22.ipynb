{
 "cells": [
  {
   "cell_type": "markdown",
   "metadata": {},
   "source": [
    "# Forecasting Electricity Demand with DeepAR\n",
    "\n",
    "In this notebook, will see how to:\n",
    "* Prepare and process a dataset using a remote distributed Spark Cluster\n",
    "* Use the SageMaker Python SDK to train a DeepAR model and deploy it\n",
    "* Make requests to the deployed model to obtain forecasts interactively (_WIP_)\n"
   ]
  },
  {
   "cell_type": "code",
   "execution_count": 4,
   "metadata": {
    "tags": []
   },
   "outputs": [
    {
     "name": "stdout",
     "output_type": "stream",
     "text": [
      "The sagemaker_studio_analytics_extension.magics extension is already loaded. To reload it, use:\n",
      "  %reload_ext sagemaker_studio_analytics_extension.magics\n",
      "Successfully read emr cluster(j-206FZFOB4FS8U) details\n",
      "Initiating EMR connection..\n",
      "Starting Spark application\n"
     ]
    },
    {
     "data": {
      "text/html": [
       "<table>\n",
       "<tr><th>ID</th><th>YARN Application ID</th><th>Kind</th><th>State</th><th>Spark UI</th><th>Driver log</th><th>User</th><th>Current session?</th></tr><tr><td>2</td><td>application_1700592358949_0004</td><td>pyspark</td><td>idle</td><td><a target=\"_blank\" href=\"http://ip-10-0-20-240.ec2.internal:20888/proxy/application_1700592358949_0004/\">Link</a></td><td><a target=\"_blank\" href=\"http://ip-10-0-20-186.ec2.internal:8042/node/containerlogs/container_1700592358949_0004_01_000001/livy\">Link</a></td><td>None</td><td>✔</td></tr></table>"
      ],
      "text/plain": [
       "<IPython.core.display.HTML object>"
      ]
     },
     "metadata": {},
     "output_type": "display_data"
    },
    {
     "data": {
      "application/vnd.jupyter.widget-view+json": {
       "model_id": "",
       "version_major": 2,
       "version_minor": 0
      },
      "text/plain": [
       "FloatProgress(value=0.0, bar_style='info', description='Progress:', layout=Layout(height='25px', width='50%'),…"
      ]
     },
     "metadata": {},
     "output_type": "display_data"
    },
    {
     "name": "stdout",
     "output_type": "stream",
     "text": [
      "SparkSession available as 'spark'.\n",
      "{\"namespace\": \"sagemaker-analytics\", \"cluster_id\": \"j-206FZFOB4FS8U\", \"error_message\": null, \"success\": true, \"service\": \"emr\", \"operation\": \"connect\"}\n"
     ]
    }
   ],
   "source": [
    "%load_ext sagemaker_studio_analytics_extension.magics\n",
    "%sm_analytics emr connect --verify-certificate False --cluster-id j-206FZFOB4FS8U --auth-type None   "
   ]
  },
  {
   "cell_type": "markdown",
   "metadata": {},
   "source": [
    "## Dataset\n",
    "\n",
    "We'll use a ~700MB dataset of energy consumption by 370 clients over time. This [dataset](https://archive.ics.uci.edu/ml/datasets/ElectricityLoadDiagrams20112014) comes from the UCI Machine Learning Repostiory and was used in the academic papers [[1](https://media.nips.cc/nipsbooks/nipspapers/paper_files/nips29/reviews/526.html)] and [[2](https://arxiv.org/abs/1704.04110)].  The dataset comes in the following format:\n",
    "\n",
    "|    | date                | client   |   value |\n",
    "|---:|:--------------------|:---------|--------:|\n",
    "|  0 | 2011-01-01 00:15:00 | MT_001   |       0 |\n",
    "|  1 | 2011-01-01 00:30:00 | MT_001   |       0 |\n",
    "|  2 | 2011-01-01 00:45:00 | MT_001   |       0 |\n",
    "|  3 | 2011-01-01 01:00:00 | MT_001   |       0 |\n",
    "|  4 | 2011-01-01 01:15:00 | MT_001   |       0 |\n",
    "\n",
    "The first column contains the timestamp of the observation in 15 min increments. The `client` column uniquely identifies each timeseries (i.e. the customer), and the `value` column provides the electricity (kW) usage for that interval.\n"
   ]
  },
  {
   "cell_type": "markdown",
   "metadata": {},
   "source": [
    "## Notebook Scoped Dependencies\n",
    "These allow for on-the-fly installation of python libraries without restarting your session, ensuring dependency isolation unique to each notebook. These libraries can be easily replicated across different clusters and are automatically removed after the session ends."
   ]
  },
  {
   "cell_type": "code",
   "execution_count": 5,
   "metadata": {
    "tags": []
   },
   "outputs": [
    {
     "name": "stdout",
     "output_type": "stream",
     "text": [
      "Starting Spark application\n"
     ]
    },
    {
     "data": {
      "text/html": [
       "<table>\n",
       "<tr><th>ID</th><th>YARN Application ID</th><th>Kind</th><th>State</th><th>Spark UI</th><th>Driver log</th><th>User</th><th>Current session?</th></tr><tr><td>3</td><td>application_1700592358949_0005</td><td>pyspark</td><td>idle</td><td><a target=\"_blank\" href=\"http://ip-10-0-20-240.ec2.internal:20888/proxy/application_1700592358949_0005/\">Link</a></td><td><a target=\"_blank\" href=\"http://ip-10-0-20-53.ec2.internal:8042/node/containerlogs/container_1700592358949_0005_01_000001/livy\">Link</a></td><td>None</td><td>✔</td></tr></table>"
      ],
      "text/plain": [
       "<IPython.core.display.HTML object>"
      ]
     },
     "metadata": {},
     "output_type": "display_data"
    },
    {
     "data": {
      "application/vnd.jupyter.widget-view+json": {
       "model_id": "",
       "version_major": 2,
       "version_minor": 0
      },
      "text/plain": [
       "FloatProgress(value=0.0, bar_style='info', description='Progress:', layout=Layout(height='25px', width='50%'),…"
      ]
     },
     "metadata": {},
     "output_type": "display_data"
    },
    {
     "name": "stdout",
     "output_type": "stream",
     "text": [
      "SparkSession available as 'spark'.\n"
     ]
    },
    {
     "data": {
      "text/html": [
       "Current session configs: <tt>{'conf': {'spark.pyspark.python': 'python3', 'spark.pyspark.virtualenv.enabled': 'true', 'spark.pyspark.virtualenv.type': 'native', 'spark.pyspark.virtualenv.bin.path': '/usr/bin/virtualenv'}, 'kind': 'pyspark'}</tt><br>"
      ],
      "text/plain": [
       "<IPython.core.display.HTML object>"
      ]
     },
     "metadata": {},
     "output_type": "display_data"
    },
    {
     "data": {
      "text/html": [
       "<table>\n",
       "<tr><th>ID</th><th>YARN Application ID</th><th>Kind</th><th>State</th><th>Spark UI</th><th>Driver log</th><th>User</th><th>Current session?</th></tr><tr><td>3</td><td>application_1700592358949_0005</td><td>pyspark</td><td>idle</td><td><a target=\"_blank\" href=\"http://ip-10-0-20-240.ec2.internal:20888/proxy/application_1700592358949_0005/\">Link</a></td><td><a target=\"_blank\" href=\"http://ip-10-0-20-53.ec2.internal:8042/node/containerlogs/container_1700592358949_0005_01_000001/livy\">Link</a></td><td>None</td><td>✔</td></tr></table>"
      ],
      "text/plain": [
       "<IPython.core.display.HTML object>"
      ]
     },
     "metadata": {},
     "output_type": "display_data"
    }
   ],
   "source": [
    "%%configure -f\n",
    "{ \"conf\":{\n",
    "          \"spark.pyspark.python\": \"python3\",\n",
    "          \"spark.pyspark.virtualenv.enabled\": \"true\",\n",
    "          \"spark.pyspark.virtualenv.type\":\"native\",\n",
    "          \"spark.pyspark.virtualenv.bin.path\":\"/usr/bin/virtualenv\"\n",
    "         }\n",
    "}"
   ]
  },
  {
   "cell_type": "code",
   "execution_count": 6,
   "metadata": {
    "tags": []
   },
   "outputs": [
    {
     "data": {
      "application/vnd.jupyter.widget-view+json": {
       "model_id": "",
       "version_major": 2,
       "version_minor": 0
      },
      "text/plain": [
       "FloatProgress(value=0.0, bar_style='info', description='Progress:', layout=Layout(height='25px', width='50%'),…"
      ]
     },
     "metadata": {},
     "output_type": "display_data"
    },
    {
     "name": "stdout",
     "output_type": "stream",
     "text": [
      "Package                    Version\n",
      "-------------------------- ----------\n",
      "aws-cfn-bootstrap          2.0\n",
      "beautifulsoup4             4.9.3\n",
      "boto                       2.49.0\n",
      "boto3                      1.18.63\n",
      "botocore                   1.21.65\n",
      "certifi                    2023.11.17\n",
      "charset-normalizer         2.0.12\n",
      "click                      8.1.3\n",
      "cycler                     0.11.0\n",
      "Cython                     0.29.24\n",
      "distlib                    0.3.7\n",
      "docutils                   0.14\n",
      "filelock                   3.12.2\n",
      "idna                       3.4\n",
      "importlib-metadata         6.7.0\n",
      "jmespath                   0.10.0\n",
      "joblib                     1.2.0\n",
      "kiwisolver                 1.4.5\n",
      "lockfile                   0.11.0\n",
      "lxml                       4.9.1\n",
      "matplotlib                 3.4.3\n",
      "mysqlclient                1.4.2\n",
      "nltk                       3.7\n",
      "nose                       1.3.4\n",
      "numpy                      1.21.2\n",
      "pandas                     1.2.5\n",
      "Pillow                     9.5.0\n",
      "pip                        20.2.2\n",
      "platformdirs               4.0.0\n",
      "py-dateutil                2.2\n",
      "pyparsing                  3.1.1\n",
      "pystache                   0.5.4\n",
      "python-daemon              2.2.3\n",
      "python-dateutil            2.8.2\n",
      "python37-sagemaker-pyspark 1.4.2\n",
      "pytz                       2022.6\n",
      "PyYAML                     5.4.1\n",
      "regex                      2021.11.10\n",
      "requests                   2.26.0\n",
      "s3transfer                 0.5.2\n",
      "setuptools                 68.0.0\n",
      "simplejson                 3.2.0\n",
      "six                        1.13.0\n",
      "tqdm                       4.64.1\n",
      "typing-extensions          4.7.1\n",
      "urllib3                    1.26.18\n",
      "virtualenv                 20.24.7\n",
      "wheel                      0.41.3\n",
      "windmill                   1.6\n",
      "zipp                       3.15.0\n",
      "\n",
      "WARNING: The directory '/home/.cache/pip' or its parent directory is not owned or is not writable by the current user. The cache has been disabled. Check the permissions and owner of that directory. If executing pip with sudo, you may want sudo's -H flag."
     ]
    }
   ],
   "source": [
    "# Check Pre-Installed Python Packages from Bootstrap\n",
    "sc.list_packages()"
   ]
  },
  {
   "cell_type": "code",
   "execution_count": 7,
   "metadata": {
    "tags": []
   },
   "outputs": [
    {
     "data": {
      "application/vnd.jupyter.widget-view+json": {
       "model_id": "",
       "version_major": 2,
       "version_minor": 0
      },
      "text/plain": [
       "FloatProgress(value=0.0, bar_style='info', description='Progress:', layout=Layout(height='25px', width='50%'),…"
      ]
     },
     "metadata": {},
     "output_type": "display_data"
    },
    {
     "name": "stdout",
     "output_type": "stream",
     "text": [
      "Collecting pyarrow\n",
      "  Downloading pyarrow-12.0.1-cp37-cp37m-manylinux_2_17_x86_64.manylinux2014_x86_64.whl (39.1 MB)\n",
      "Requirement already satisfied: numpy>=1.16.6 in /usr/local/lib64/python3.7/site-packages (from pyarrow) (1.21.2)\n",
      "Installing collected packages: pyarrow\n",
      "Successfully installed pyarrow-12.0.1\n",
      "\n",
      "WARNING: The directory '/home/.cache/pip' or its parent directory is not owned or is not writable by the current user. The cache has been disabled. Check the permissions and owner of that directory. If executing pip with sudo, you may want sudo's -H flag."
     ]
    }
   ],
   "source": [
    "# Install pyarrow to run vectorized UDFs\n",
    "sc.install_pypi_package(\"pyarrow\") "
   ]
  },
  {
   "cell_type": "markdown",
   "metadata": {},
   "source": [
    "# Initial Setup\n",
    "\n",
    "1. Importing the sagemaker SDK library\n",
    "2. Setting up variables for the execution role, bucket, and S3 location of our data and artifacts\n",
    "3. Creating a schema that will be used by spark when reading the data"
   ]
  },
  {
   "cell_type": "code",
   "execution_count": 8,
   "metadata": {
    "tags": []
   },
   "outputs": [],
   "source": [
    "%%local\n",
    "\n",
    "import sagemaker\n",
    "from sagemaker import get_execution_role\n",
    "\n",
    "\n",
    "role = get_execution_role()\n",
    "sess = sagemaker.Session()\n",
    "bucket = sess.default_bucket()\n",
    "key_prefix = \"forecasting-electricity\"\n",
    "s3_processed_data_location = f\"s3://{bucket}/{key_prefix}/data/processed/\" # location where spark writes the processed data for training\n",
    "\n",
    "s3_input_data_location = \"s3://ws-assets-prod-iad-r-iad-ed304a55c2ca1aee/9e2e09b0-7142-4ab8-8b89-531349b817b9/deep-ar-electricity/LD2011_2014.csv.gz\"\n",
    "schema = \"date TIMESTAMP, client STRING, value FLOAT\" # source data schema"
   ]
  },
  {
   "cell_type": "markdown",
   "metadata": {},
   "source": [
    "Now we have all we need to preprocess the data with spark. We'll send to spark cluster the location of the input data, the S3 location of where we'd like the output to go, and the schema information"
   ]
  },
  {
   "cell_type": "code",
   "execution_count": 9,
   "metadata": {
    "tags": []
   },
   "outputs": [
    {
     "data": {
      "application/vnd.jupyter.widget-view+json": {
       "model_id": "",
       "version_major": 2,
       "version_minor": 0
      },
      "text/plain": [
       "FloatProgress(value=0.0, bar_style='info', description='Progress:', layout=Layout(height='25px', width='50%'),…"
      ]
     },
     "metadata": {},
     "output_type": "display_data"
    },
    {
     "name": "stdout",
     "output_type": "stream",
     "text": [
      "Successfully passed 's3_input_data_location' as 's3_input_data_location' to Spark kernel"
     ]
    }
   ],
   "source": [
    "%%send_to_spark -i s3_input_data_location -t str -n s3_input_data_location"
   ]
  },
  {
   "cell_type": "code",
   "execution_count": 10,
   "metadata": {
    "tags": []
   },
   "outputs": [
    {
     "data": {
      "application/vnd.jupyter.widget-view+json": {
       "model_id": "",
       "version_major": 2,
       "version_minor": 0
      },
      "text/plain": [
       "FloatProgress(value=0.0, bar_style='info', description='Progress:', layout=Layout(height='25px', width='50%'),…"
      ]
     },
     "metadata": {},
     "output_type": "display_data"
    },
    {
     "name": "stdout",
     "output_type": "stream",
     "text": [
      "Successfully passed 's3_processed_data_location' as 's3_processed_data_location' to Spark kernel"
     ]
    }
   ],
   "source": [
    "%%send_to_spark -i s3_processed_data_location -t str -n s3_processed_data_location"
   ]
  },
  {
   "cell_type": "code",
   "execution_count": 11,
   "metadata": {
    "tags": []
   },
   "outputs": [
    {
     "data": {
      "application/vnd.jupyter.widget-view+json": {
       "model_id": "",
       "version_major": 2,
       "version_minor": 0
      },
      "text/plain": [
       "FloatProgress(value=0.0, bar_style='info', description='Progress:', layout=Layout(height='25px', width='50%'),…"
      ]
     },
     "metadata": {},
     "output_type": "display_data"
    },
    {
     "name": "stdout",
     "output_type": "stream",
     "text": [
      "Successfully passed 'schema' as 'schema' to Spark kernel"
     ]
    }
   ],
   "source": [
    "%%send_to_spark -i schema -t str -n schema"
   ]
  },
  {
   "cell_type": "markdown",
   "metadata": {},
   "source": [
    "# Data preprocessing with Apache Spark\n",
    "\n",
    "For DeepAR we'll need to transform the timeseries data into a json lines format where each line contains a json object representing each client and having the following schema: <br>\n",
    "`{\"start\": ..., \"target\": [0, 0, 0, 0], \"dynamic_feat\": [[0, 1, 1, 0]], \"cat\": [0, 0]}` <br>\n",
    "[AWS SageMaker DeepAR Documentation](https://docs.aws.amazon.com/sagemaker/latest/dg/deepar.html)\n",
    "\n",
    "We'll only use \n",
    "1. the `start` attribute which contains the start date for the timesries,\n",
    "2. the `target` attribute which contains the observations, and \n",
    "3. the `cat` attribute with which will encode each client as a category. DeepAR supports providing additional categorical and continuous features to improve the quality of the forecast\n",
    "\n",
    "Here we will read the data from S3, and then use a compination of PySpark and PandasUDFs to get the data into the right format"
   ]
  },
  {
   "cell_type": "code",
   "execution_count": 12,
   "metadata": {
    "tags": []
   },
   "outputs": [
    {
     "data": {
      "application/vnd.jupyter.widget-view+json": {
       "model_id": "",
       "version_major": 2,
       "version_minor": 0
      },
      "text/plain": [
       "FloatProgress(value=0.0, bar_style='info', description='Progress:', layout=Layout(height='25px', width='50%'),…"
      ]
     },
     "metadata": {},
     "output_type": "display_data"
    }
   ],
   "source": [
    "import pandas as pd\n",
    "import matplotlib.pyplot as plt\n",
    "\n",
    "import random\n",
    "import pyspark.sql.functions as fn\n",
    "from pyspark.sql.functions import pandas_udf, PandasUDFType\n",
    "from pyspark.sql.types import StructType, StructField, ArrayType, DoubleType, StringType, IntegerType"
   ]
  },
  {
   "cell_type": "code",
   "execution_count": 13,
   "metadata": {
    "tags": []
   },
   "outputs": [
    {
     "data": {
      "application/vnd.jupyter.widget-view+json": {
       "model_id": "",
       "version_major": 2,
       "version_minor": 0
      },
      "text/plain": [
       "FloatProgress(value=0.0, bar_style='info', description='Progress:', layout=Layout(height='25px', width='50%'),…"
      ]
     },
     "metadata": {},
     "output_type": "display_data"
    }
   ],
   "source": [
    "data = (spark\n",
    "        .read\n",
    "        .schema(schema)\n",
    "        .options(sep =',', header=True, mode=\"FAILFAST\", timestampFormat=\"yyyy-MM-dd HH:mm:ss\")\n",
    "        .csv(s3_input_data_location)\n",
    "       )"
   ]
  },
  {
   "cell_type": "code",
   "execution_count": 14,
   "metadata": {
    "tags": []
   },
   "outputs": [
    {
     "data": {
      "application/vnd.jupyter.widget-view+json": {
       "model_id": "",
       "version_major": 2,
       "version_minor": 0
      },
      "text/plain": [
       "FloatProgress(value=0.0, bar_style='info', description='Progress:', layout=Layout(height='25px', width='50%'),…"
      ]
     },
     "metadata": {},
     "output_type": "display_data"
    },
    {
     "name": "stdout",
     "output_type": "stream",
     "text": [
      "DataFrame[date: timestamp, client: string, value: float]"
     ]
    }
   ],
   "source": [
    "# Caching for faster performance\n",
    "data.cache() "
   ]
  },
  {
   "cell_type": "code",
   "execution_count": 15,
   "metadata": {
    "tags": []
   },
   "outputs": [
    {
     "data": {
      "application/vnd.jupyter.widget-view+json": {
       "model_id": "",
       "version_major": 2,
       "version_minor": 0
      },
      "text/plain": [
       "FloatProgress(value=0.0, bar_style='info', description='Progress:', layout=Layout(height='25px', width='50%'),…"
      ]
     },
     "metadata": {},
     "output_type": "display_data"
    },
    {
     "data": {
      "text/html": [
       "<table><tr><th><pre style=\"word-break: unset; background-color: unset;\">date</pre></th><th><pre style=\"word-break: unset; background-color: unset;\">client</pre></th><th><pre style=\"word-break: unset; background-color: unset;\">value</pre></th></tr><tr><td><pre style=\"word-break: unset; background-color: unset;\">2011-01-01 00:15:00</pre></td><td><pre style=\"word-break: unset; background-color: unset;\">MT_001</pre></td><td><pre style=\"word-break: unset; background-color: unset;\">0.0</pre></td></tr><tr><td><pre style=\"word-break: unset; background-color: unset;\">2011-01-01 00:30:00</pre></td><td><pre style=\"word-break: unset; background-color: unset;\">MT_001</pre></td><td><pre style=\"word-break: unset; background-color: unset;\">0.0</pre></td></tr><tr><td><pre style=\"word-break: unset; background-color: unset;\">2011-01-01 00:45:00</pre></td><td><pre style=\"word-break: unset; background-color: unset;\">MT_001</pre></td><td><pre style=\"word-break: unset; background-color: unset;\">0.0</pre></td></tr><tr><td><pre style=\"word-break: unset; background-color: unset;\">2011-01-01 01:00:00</pre></td><td><pre style=\"word-break: unset; background-color: unset;\">MT_001</pre></td><td><pre style=\"word-break: unset; background-color: unset;\">0.0</pre></td></tr><tr><td><pre style=\"word-break: unset; background-color: unset;\">2011-01-01 01:15:00</pre></td><td><pre style=\"word-break: unset; background-color: unset;\">MT_001</pre></td><td><pre style=\"word-break: unset; background-color: unset;\">0.0</pre></td></tr><tr><td><pre style=\"word-break: unset; background-color: unset;\">2011-01-01 01:30:00</pre></td><td><pre style=\"word-break: unset; background-color: unset;\">MT_001</pre></td><td><pre style=\"word-break: unset; background-color: unset;\">0.0</pre></td></tr><tr><td><pre style=\"word-break: unset; background-color: unset;\">2011-01-01 01:45:00</pre></td><td><pre style=\"word-break: unset; background-color: unset;\">MT_001</pre></td><td><pre style=\"word-break: unset; background-color: unset;\">0.0</pre></td></tr><tr><td><pre style=\"word-break: unset; background-color: unset;\">2011-01-01 02:00:00</pre></td><td><pre style=\"word-break: unset; background-color: unset;\">MT_001</pre></td><td><pre style=\"word-break: unset; background-color: unset;\">0.0</pre></td></tr><tr><td><pre style=\"word-break: unset; background-color: unset;\">2011-01-01 02:15:00</pre></td><td><pre style=\"word-break: unset; background-color: unset;\">MT_001</pre></td><td><pre style=\"word-break: unset; background-color: unset;\">0.0</pre></td></tr><tr><td><pre style=\"word-break: unset; background-color: unset;\">2011-01-01 02:30:00</pre></td><td><pre style=\"word-break: unset; background-color: unset;\">MT_001</pre></td><td><pre style=\"word-break: unset; background-color: unset;\">0.0</pre></td></tr></table><br /><pre>only showing top 10 rows</pre>"
      ],
      "text/plain": [
       "<IPython.core.display.HTML object>"
      ]
     },
     "metadata": {},
     "output_type": "display_data"
    }
   ],
   "source": [
    "%%pretty\n",
    "data.show(10)"
   ]
  },
  {
   "cell_type": "code",
   "execution_count": 16,
   "metadata": {
    "tags": []
   },
   "outputs": [
    {
     "data": {
      "application/vnd.jupyter.widget-view+json": {
       "model_id": "",
       "version_major": 2,
       "version_minor": 0
      },
      "text/plain": [
       "FloatProgress(value=0.0, bar_style='info', description='Progress:', layout=Layout(height='25px', width='50%'),…"
      ]
     },
     "metadata": {},
     "output_type": "display_data"
    }
   ],
   "source": [
    "# Resample from 15min intervals to one hour to speed up training\n",
    "data = (data.groupBy(fn.date_trunc(\"HOUR\", fn.col(\"date\")).alias(\"date\"),\n",
    "                    fn.col(\"client\"))\n",
    " .agg(fn.mean(\"value\").alias(\"value\"))\n",
    ")"
   ]
  },
  {
   "cell_type": "code",
   "execution_count": 17,
   "metadata": {
    "tags": []
   },
   "outputs": [
    {
     "data": {
      "application/vnd.jupyter.widget-view+json": {
       "model_id": "",
       "version_major": 2,
       "version_minor": 0
      },
      "text/plain": [
       "FloatProgress(value=0.0, bar_style='info', description='Progress:', layout=Layout(height='25px', width='50%'),…"
      ]
     },
     "metadata": {},
     "output_type": "display_data"
    }
   ],
   "source": [
    "# Create a dictionary to Integer encode each client\n",
    "client_list = data.select(\"client\").distinct().collect()\n",
    "client_list = [rec[\"client\"] for rec in client_list]\n",
    "client_encoder = dict(zip(client_list, range(len(client_list)))) "
   ]
  },
  {
   "cell_type": "markdown",
   "metadata": {},
   "source": [
    "## Let's visualize the timeseries data for a random subset of clients"
   ]
  },
  {
   "cell_type": "code",
   "execution_count": 18,
   "metadata": {
    "tags": []
   },
   "outputs": [
    {
     "data": {
      "application/vnd.jupyter.widget-view+json": {
       "model_id": "",
       "version_major": 2,
       "version_minor": 0
      },
      "text/plain": [
       "FloatProgress(value=0.0, bar_style='info', description='Progress:', layout=Layout(height='25px', width='50%'),…"
      ]
     },
     "metadata": {},
     "output_type": "display_data"
    }
   ],
   "source": [
    "random_client_list = random.sample(client_list, 6)\n",
    "\n",
    "random_clients_pandas_df = (data.where(fn.col(\"client\")\n",
    "                                            .isin(random_client_list)) \n",
    "                                 .groupBy(\"date\")\n",
    "                                 .pivot(\"client\").max().toPandas()\n",
    "                                )\n",
    "random_clients_pandas_df.set_index(\"date\", inplace=True)"
   ]
  },
  {
   "cell_type": "code",
   "execution_count": 19,
   "metadata": {
    "tags": []
   },
   "outputs": [
    {
     "data": {
      "application/vnd.jupyter.widget-view+json": {
       "model_id": "",
       "version_major": 2,
       "version_minor": 0
      },
      "text/plain": [
       "FloatProgress(value=0.0, bar_style='info', description='Progress:', layout=Layout(height='25px', width='50%'),…"
      ]
     },
     "metadata": {},
     "output_type": "display_data"
    },
    {
     "data": {
      "image/png": "[encoded data removed]",
      "text/plain": [
       "<IPython.core.display.Image object>"
      ]
     },
     "metadata": {},
     "output_type": "display_data"
    }
   ],
   "source": [
    "plt.clf()\n",
    "axes = random_clients_pandas_df.resample(\"1D\").max().plot(subplots=True,\n",
    "                               figsize=(14, 6),\n",
    "                               layout=(3, 2),\n",
    "                               title=random_client_list,\n",
    "                               legend=False,\n",
    "                               rot=0,\n",
    "                               lw=1, \n",
    "                               color=\"k\")\n",
    "for ax in axes.flatten():\n",
    "    ax.set_xlabel('')\n",
    "\n",
    "plt.suptitle(\"Electricity Demand\")\n",
    "plt.gcf().tight_layout()\n",
    "\n",
    "%matplot plt"
   ]
  },
  {
   "cell_type": "markdown",
   "metadata": {},
   "source": [
    "DeepAR requires no gaps in your data. So for example if you have data that only comes in Monday to Friday (e.g. stock trading activity), we'd have to insert NaN data points to account for Saturdays and Sundays. A quick way to check if our data has any gaps is to aggregate by the day of the week. Running the commands below we can see that the difference between the count and the lowest count is 24 Hours which is ok as it just means that the last datapoint falls midweek. Also the counts match across all customers so it appears that this dataset does not have any gaps"
   ]
  },
  {
   "cell_type": "code",
   "execution_count": 20,
   "metadata": {
    "tags": []
   },
   "outputs": [
    {
     "data": {
      "application/vnd.jupyter.widget-view+json": {
       "model_id": "",
       "version_major": 2,
       "version_minor": 0
      },
      "text/plain": [
       "FloatProgress(value=0.0, bar_style='info', description='Progress:', layout=Layout(height='25px', width='50%'),…"
      ]
     },
     "metadata": {},
     "output_type": "display_data"
    }
   ],
   "source": [
    "weekday_counts = (data\n",
    " .withColumn(\"dayofweek\", fn.dayofweek(\"date\"))\n",
    " .groupBy(\"client\")\n",
    " .pivot(\"dayofweek\")\n",
    " .count()\n",
    ")"
   ]
  },
  {
   "cell_type": "code",
   "execution_count": 21,
   "metadata": {
    "tags": []
   },
   "outputs": [
    {
     "data": {
      "application/vnd.jupyter.widget-view+json": {
       "model_id": "",
       "version_major": 2,
       "version_minor": 0
      },
      "text/plain": [
       "FloatProgress(value=0.0, bar_style='info', description='Progress:', layout=Layout(height='25px', width='50%'),…"
      ]
     },
     "metadata": {},
     "output_type": "display_data"
    },
    {
     "data": {
      "text/html": [
       "<table><tr><th><pre style=\"word-break: unset; background-color: unset;\">client</pre></th><th><pre style=\"word-break: unset; background-color: unset;\">1</pre></th><th><pre style=\"word-break: unset; background-color: unset;\">2</pre></th><th><pre style=\"word-break: unset; background-color: unset;\">3</pre></th><th><pre style=\"word-break: unset; background-color: unset;\">4</pre></th><th><pre style=\"word-break: unset; background-color: unset;\">5</pre></th><th><pre style=\"word-break: unset; background-color: unset;\">6</pre></th><th><pre style=\"word-break: unset; background-color: unset;\">7</pre></th></tr><tr><td><pre style=\"word-break: unset; background-color: unset;\">MT_160</pre></td><td><pre style=\"word-break: unset; background-color: unset;\">5016</pre></td><td><pre style=\"word-break: unset; background-color: unset;\">5016</pre></td><td><pre style=\"word-break: unset; background-color: unset;\">5016</pre></td><td><pre style=\"word-break: unset; background-color: unset;\">5016</pre></td><td><pre style=\"word-break: unset; background-color: unset;\">4993</pre></td><td><pre style=\"word-break: unset; background-color: unset;\">4992</pre></td><td><pre style=\"word-break: unset; background-color: unset;\">5016</pre></td></tr><tr><td><pre style=\"word-break: unset; background-color: unset;\">MT_095</pre></td><td><pre style=\"word-break: unset; background-color: unset;\">5016</pre></td><td><pre style=\"word-break: unset; background-color: unset;\">5016</pre></td><td><pre style=\"word-break: unset; background-color: unset;\">5016</pre></td><td><pre style=\"word-break: unset; background-color: unset;\">5016</pre></td><td><pre style=\"word-break: unset; background-color: unset;\">4993</pre></td><td><pre style=\"word-break: unset; background-color: unset;\">4992</pre></td><td><pre style=\"word-break: unset; background-color: unset;\">5016</pre></td></tr><tr><td><pre style=\"word-break: unset; background-color: unset;\">MT_283</pre></td><td><pre style=\"word-break: unset; background-color: unset;\">5016</pre></td><td><pre style=\"word-break: unset; background-color: unset;\">5016</pre></td><td><pre style=\"word-break: unset; background-color: unset;\">5016</pre></td><td><pre style=\"word-break: unset; background-color: unset;\">5016</pre></td><td><pre style=\"word-break: unset; background-color: unset;\">4993</pre></td><td><pre style=\"word-break: unset; background-color: unset;\">4992</pre></td><td><pre style=\"word-break: unset; background-color: unset;\">5016</pre></td></tr><tr><td><pre style=\"word-break: unset; background-color: unset;\">MT_246</pre></td><td><pre style=\"word-break: unset; background-color: unset;\">5016</pre></td><td><pre style=\"word-break: unset; background-color: unset;\">5016</pre></td><td><pre style=\"word-break: unset; background-color: unset;\">5016</pre></td><td><pre style=\"word-break: unset; background-color: unset;\">5016</pre></td><td><pre style=\"word-break: unset; background-color: unset;\">4993</pre></td><td><pre style=\"word-break: unset; background-color: unset;\">4992</pre></td><td><pre style=\"word-break: unset; background-color: unset;\">5016</pre></td></tr><tr><td><pre style=\"word-break: unset; background-color: unset;\">MT_346</pre></td><td><pre style=\"word-break: unset; background-color: unset;\">5016</pre></td><td><pre style=\"word-break: unset; background-color: unset;\">5016</pre></td><td><pre style=\"word-break: unset; background-color: unset;\">5016</pre></td><td><pre style=\"word-break: unset; background-color: unset;\">5016</pre></td><td><pre style=\"word-break: unset; background-color: unset;\">4993</pre></td><td><pre style=\"word-break: unset; background-color: unset;\">4992</pre></td><td><pre style=\"word-break: unset; background-color: unset;\">5016</pre></td></tr></table><br /><pre>only showing top 5 rows</pre><br /><table><tr><th><pre style=\"word-break: unset; background-color: unset;\">min(1)</pre></th><th><pre style=\"word-break: unset; background-color: unset;\">min(2)</pre></th><th><pre style=\"word-break: unset; background-color: unset;\">min(3)</pre></th><th><pre style=\"word-break: unset; background-color: unset;\">min(4)</pre></th><th><pre style=\"word-break: unset; background-color: unset;\">min(5)</pre></th><th><pre style=\"word-break: unset; background-color: unset;\">min(6)</pre></th><th><pre style=\"word-break: unset; background-color: unset;\">min(7)</pre></th></tr><tr><td><pre style=\"word-break: unset; background-color: unset;\">5016</pre></td><td><pre style=\"word-break: unset; background-color: unset;\">5016</pre></td><td><pre style=\"word-break: unset; background-color: unset;\">5016</pre></td><td><pre style=\"word-break: unset; background-color: unset;\">5016</pre></td><td><pre style=\"word-break: unset; background-color: unset;\">4993</pre></td><td><pre style=\"word-break: unset; background-color: unset;\">4992</pre></td><td><pre style=\"word-break: unset; background-color: unset;\">5016</pre></td></tr></table><br /><pre></pre><br /><table><tr><th><pre style=\"word-break: unset; background-color: unset;\">max(1)</pre></th><th><pre style=\"word-break: unset; background-color: unset;\">max(2)</pre></th><th><pre style=\"word-break: unset; background-color: unset;\">max(3)</pre></th><th><pre style=\"word-break: unset; background-color: unset;\">max(4)</pre></th><th><pre style=\"word-break: unset; background-color: unset;\">max(5)</pre></th><th><pre style=\"word-break: unset; background-color: unset;\">max(6)</pre></th><th><pre style=\"word-break: unset; background-color: unset;\">max(7)</pre></th></tr><tr><td><pre style=\"word-break: unset; background-color: unset;\">5016</pre></td><td><pre style=\"word-break: unset; background-color: unset;\">5016</pre></td><td><pre style=\"word-break: unset; background-color: unset;\">5016</pre></td><td><pre style=\"word-break: unset; background-color: unset;\">5016</pre></td><td><pre style=\"word-break: unset; background-color: unset;\">4993</pre></td><td><pre style=\"word-break: unset; background-color: unset;\">4992</pre></td><td><pre style=\"word-break: unset; background-color: unset;\">5016</pre></td></tr></table><br /><pre></pre>"
      ],
      "text/plain": [
       "<IPython.core.display.HTML object>"
      ]
     },
     "metadata": {},
     "output_type": "display_data"
    }
   ],
   "source": [
    "%%pretty\n",
    "weekday_counts.show(5) # show aggregates for several clients\n",
    "weekday_counts.agg(*[fn.min(col) for col in weekday_counts.columns[1:]]).show() # show minimum counts of observations across all clients\n",
    "weekday_counts.agg(*[fn.max(col) for col in weekday_counts.columns[1:]]).show() # show maximum counts of observations across all clients"
   ]
  },
  {
   "cell_type": "markdown",
   "metadata": {},
   "source": [
    "## Split our timeseries datasets"
   ]
  },
  {
   "cell_type": "markdown",
   "metadata": {},
   "source": [
    "To ensure there is no data leakage between our training and test dataset"
   ]
  },
  {
   "cell_type": "code",
   "execution_count": 25,
   "metadata": {
    "tags": []
   },
   "outputs": [
    {
     "data": {
      "application/vnd.jupyter.widget-view+json": {
       "model_id": "",
       "version_major": 2,
       "version_minor": 0
      },
      "text/plain": [
       "FloatProgress(value=0.0, bar_style='info', description='Progress:', layout=Layout(height='25px', width='50%'),…"
      ]
     },
     "metadata": {},
     "output_type": "display_data"
    }
   ],
   "source": [
    "train_start_date = data.select(fn.min(\"date\").alias(\"date\")).collect()[0][\"date\"]\n",
    "test_start_date = \"2014-01-01\"\n",
    "end_date = data.select(fn.max(\"date\").alias(\"date\")).collect()[0][\"date\"]"
   ]
  },
  {
   "cell_type": "code",
   "execution_count": null,
   "metadata": {
    "tags": []
   },
   "outputs": [],
   "source": [
    "print(f\"overall date span: {train_start_date} to {end_date}\")"
   ]
  },
  {
   "cell_type": "code",
   "execution_count": 27,
   "metadata": {
    "tags": []
   },
   "outputs": [
    {
     "data": {
      "application/vnd.jupyter.widget-view+json": {
       "model_id": "",
       "version_major": 2,
       "version_minor": 0
      },
      "text/plain": [
       "FloatProgress(value=0.0, bar_style='info', description='Progress:', layout=Layout(height='25px', width='50%'),…"
      ]
     },
     "metadata": {},
     "output_type": "display_data"
    }
   ],
   "source": [
    "# split the data into train and test set\n",
    "train_data = data.where(fn.col(\"date\") < test_start_date)\n",
    "test_data = data.where(fn.col(\"date\") >= test_start_date)"
   ]
  },
  {
   "cell_type": "markdown",
   "metadata": {},
   "source": [
    "As mentioned above, DeepAR requires data in a specific fromat, we use pandasUDF to wrangle our data into it. In recent versions, we can also use PySpark dataframes"
   ]
  },
  {
   "cell_type": "code",
   "execution_count": 28,
   "metadata": {
    "tags": []
   },
   "outputs": [
    {
     "data": {
      "application/vnd.jupyter.widget-view+json": {
       "model_id": "",
       "version_major": 2,
       "version_minor": 0
      },
      "text/plain": [
       "FloatProgress(value=0.0, bar_style='info', description='Progress:', layout=Layout(height='25px', width='50%'),…"
      ]
     },
     "metadata": {},
     "output_type": "display_data"
    }
   ],
   "source": [
    "# pandasUDFs require an output schema. This one matches the format required for DeepAR\n",
    "deep_ar_schema = StructType([StructField(\"target\", ArrayType(DoubleType())),\n",
    "                             StructField(\"cat\", ArrayType(IntegerType())),\n",
    "                             StructField(\"start\", StringType())\n",
    "                            ])"
   ]
  },
  {
   "cell_type": "code",
   "execution_count": 29,
   "metadata": {
    "tags": []
   },
   "outputs": [
    {
     "data": {
      "application/vnd.jupyter.widget-view+json": {
       "model_id": "",
       "version_major": 2,
       "version_minor": 0
      },
      "text/plain": [
       "FloatProgress(value=0.0, bar_style='info', description='Progress:', layout=Layout(height='25px', width='50%'),…"
      ]
     },
     "metadata": {},
     "output_type": "display_data"
    }
   ],
   "source": [
    "@pandas_udf(deep_ar_schema, PandasUDFType.GROUPED_MAP)\n",
    "def prep_deep_ar(df):\n",
    "    \n",
    "    df = df.sort_values(by=\"date\")\n",
    "    client_name = df.loc[0, \"client\"]\n",
    "    targets = df[\"value\"].values.tolist()\n",
    "    cat = [client_encoder[client_name]]\n",
    "    start = str(df.loc[0,\"date\"])\n",
    "    \n",
    "    return pd.DataFrame([[targets, cat, start]], columns=[\"target\", \"cat\", \"start\"])"
   ]
  },
  {
   "cell_type": "code",
   "execution_count": 30,
   "metadata": {
    "tags": []
   },
   "outputs": [
    {
     "data": {
      "application/vnd.jupyter.widget-view+json": {
       "model_id": "",
       "version_major": 2,
       "version_minor": 0
      },
      "text/plain": [
       "FloatProgress(value=0.0, bar_style='info', description='Progress:', layout=Layout(height='25px', width='50%'),…"
      ]
     },
     "metadata": {},
     "output_type": "display_data"
    },
    {
     "name": "stdout",
     "output_type": "stream",
     "text": [
      "+--------------------+----+-------------------+\n",
      "|              target| cat|              start|\n",
      "+--------------------+----+-------------------+\n",
      "|[0.0, 0.0, 0.0, 0...| [9]|2011-03-06 06:00:00|\n",
      "|[0.0, 0.0, 0.0, 0...| [7]|2011-01-27 00:00:00|\n",
      "|[0.0, 0.0, 0.0, 0...| [6]|2011-01-02 12:00:00|\n",
      "|[0.0, 0.0, 0.0, 0...|[10]|2011-01-04 15:00:00|\n",
      "|[0.0, 0.0, 0.0, 0...| [1]|2011-02-27 01:00:00|\n",
      "+--------------------+----+-------------------+\n",
      "only showing top 5 rows\n",
      "\n",
      "/mnt/yarn/usercache/livy/appcache/application_1700592358949_0005/container_1700592358949_0005_01_000001/pyspark.zip/pyspark/sql/pandas/group_ops.py:102: UserWarning: It is preferred to use 'applyInPandas' over this API. This API will be deprecated in the future releases. See SPARK-28264 for more details."
     ]
    }
   ],
   "source": [
    "train_data = train_data.groupBy(\"client\").apply(prep_deep_ar)\n",
    "train_data.show(5)"
   ]
  },
  {
   "cell_type": "code",
   "execution_count": 31,
   "metadata": {
    "tags": []
   },
   "outputs": [
    {
     "data": {
      "application/vnd.jupyter.widget-view+json": {
       "model_id": "",
       "version_major": 2,
       "version_minor": 0
      },
      "text/plain": [
       "FloatProgress(value=0.0, bar_style='info', description='Progress:', layout=Layout(height='25px', width='50%'),…"
      ]
     },
     "metadata": {},
     "output_type": "display_data"
    }
   ],
   "source": [
    "# Set flag so that _SUCCESS meta files are not written to S3\n",
    "# DeepAR actually skips these files anyway, but it's a good practice when using directories as inputs to algorithms\n",
    "spark.conf.set(\"mapreduce.fileoutputcommitter.marksuccessfuljobs\", \"false\")"
   ]
  },
  {
   "cell_type": "markdown",
   "metadata": {},
   "source": [
    "Now that we have our data in the right format, we are we are going to write it into the S3 buckets. This will be stored as shards for distributed processing "
   ]
  },
  {
   "cell_type": "code",
   "execution_count": 32,
   "metadata": {
    "tags": []
   },
   "outputs": [
    {
     "data": {
      "application/vnd.jupyter.widget-view+json": {
       "model_id": "",
       "version_major": 2,
       "version_minor": 0
      },
      "text/plain": [
       "FloatProgress(value=0.0, bar_style='info', description='Progress:', layout=Layout(height='25px', width='50%'),…"
      ]
     },
     "metadata": {},
     "output_type": "display_data"
    }
   ],
   "source": [
    "# data is ready for DeepAR an can be written to the specified output destination\n",
    "train_data.write.mode(\"overwrite\").json(s3_processed_data_location)"
   ]
  },
  {
   "cell_type": "code",
   "execution_count": 33,
   "metadata": {
    "tags": []
   },
   "outputs": [
    {
     "data": {
      "text/plain": [
       "['s3://sagemaker-us-east-1-793217038115/forecasting-electricity/data/processed/part-00000-5083e253-62d8-4ac6-b8b5-43ff638e6207-c000.json',\n",
       " 's3://sagemaker-us-east-1-793217038115/forecasting-electricity/data/processed/part-00001-5083e253-62d8-4ac6-b8b5-43ff638e6207-c000.json',\n",
       " 's3://sagemaker-us-east-1-793217038115/forecasting-electricity/data/processed/part-00002-5083e253-62d8-4ac6-b8b5-43ff638e6207-c000.json',\n",
       " 's3://sagemaker-us-east-1-793217038115/forecasting-electricity/data/processed/part-00003-5083e253-62d8-4ac6-b8b5-43ff638e6207-c000.json',\n",
       " 's3://sagemaker-us-east-1-793217038115/forecasting-electricity/data/processed/part-00004-5083e253-62d8-4ac6-b8b5-43ff638e6207-c000.json',\n",
       " 's3://sagemaker-us-east-1-793217038115/forecasting-electricity/data/processed/part-00005-5083e253-62d8-4ac6-b8b5-43ff638e6207-c000.json',\n",
       " 's3://sagemaker-us-east-1-793217038115/forecasting-electricity/data/processed/part-00006-5083e253-62d8-4ac6-b8b5-43ff638e6207-c000.json',\n",
       " 's3://sagemaker-us-east-1-793217038115/forecasting-electricity/data/processed/part-00007-5083e253-62d8-4ac6-b8b5-43ff638e6207-c000.json',\n",
       " 's3://sagemaker-us-east-1-793217038115/forecasting-electricity/data/processed/part-00008-5083e253-62d8-4ac6-b8b5-43ff638e6207-c000.json',\n",
       " 's3://sagemaker-us-east-1-793217038115/forecasting-electricity/data/processed/part-00009-5083e253-62d8-4ac6-b8b5-43ff638e6207-c000.json',\n",
       " 's3://sagemaker-us-east-1-793217038115/forecasting-electricity/data/processed/part-00010-5083e253-62d8-4ac6-b8b5-43ff638e6207-c000.json',\n",
       " 's3://sagemaker-us-east-1-793217038115/forecasting-electricity/data/processed/part-00011-5083e253-62d8-4ac6-b8b5-43ff638e6207-c000.json',\n",
       " 's3://sagemaker-us-east-1-793217038115/forecasting-electricity/data/processed/part-00012-5083e253-62d8-4ac6-b8b5-43ff638e6207-c000.json',\n",
       " 's3://sagemaker-us-east-1-793217038115/forecasting-electricity/data/processed/part-00013-5083e253-62d8-4ac6-b8b5-43ff638e6207-c000.json',\n",
       " 's3://sagemaker-us-east-1-793217038115/forecasting-electricity/data/processed/part-00014-5083e253-62d8-4ac6-b8b5-43ff638e6207-c000.json',\n",
       " 's3://sagemaker-us-east-1-793217038115/forecasting-electricity/data/processed/part-00015-5083e253-62d8-4ac6-b8b5-43ff638e6207-c000.json',\n",
       " 's3://sagemaker-us-east-1-793217038115/forecasting-electricity/data/processed/part-00016-5083e253-62d8-4ac6-b8b5-43ff638e6207-c000.json',\n",
       " 's3://sagemaker-us-east-1-793217038115/forecasting-electricity/data/processed/part-00017-5083e253-62d8-4ac6-b8b5-43ff638e6207-c000.json',\n",
       " 's3://sagemaker-us-east-1-793217038115/forecasting-electricity/data/processed/part-00018-5083e253-62d8-4ac6-b8b5-43ff638e6207-c000.json',\n",
       " 's3://sagemaker-us-east-1-793217038115/forecasting-electricity/data/processed/part-00019-5083e253-62d8-4ac6-b8b5-43ff638e6207-c000.json',\n",
       " 's3://sagemaker-us-east-1-793217038115/forecasting-electricity/data/processed/part-00020-5083e253-62d8-4ac6-b8b5-43ff638e6207-c000.json',\n",
       " 's3://sagemaker-us-east-1-793217038115/forecasting-electricity/data/processed/part-00021-5083e253-62d8-4ac6-b8b5-43ff638e6207-c000.json',\n",
       " 's3://sagemaker-us-east-1-793217038115/forecasting-electricity/data/processed/part-00022-5083e253-62d8-4ac6-b8b5-43ff638e6207-c000.json',\n",
       " 's3://sagemaker-us-east-1-793217038115/forecasting-electricity/data/processed/part-00023-5083e253-62d8-4ac6-b8b5-43ff638e6207-c000.json',\n",
       " 's3://sagemaker-us-east-1-793217038115/forecasting-electricity/data/processed/part-00024-5083e253-62d8-4ac6-b8b5-43ff638e6207-c000.json',\n",
       " 's3://sagemaker-us-east-1-793217038115/forecasting-electricity/data/processed/part-00025-5083e253-62d8-4ac6-b8b5-43ff638e6207-c000.json',\n",
       " 's3://sagemaker-us-east-1-793217038115/forecasting-electricity/data/processed/part-00026-5083e253-62d8-4ac6-b8b5-43ff638e6207-c000.json']"
      ]
     },
     "execution_count": 33,
     "metadata": {},
     "output_type": "execute_result"
    }
   ],
   "source": [
    "%%local\n",
    "sagemaker.s3.S3Downloader().list(s3_processed_data_location)"
   ]
  },
  {
   "cell_type": "markdown",
   "metadata": {},
   "source": [
    "# Train model with SageMaker DeepAR\n",
    "Switching back to the local notebook, we can now configure a DeepAR training job <br>\n",
    "We need to provide the location of the training data and specify several hyperparameters"
   ]
  },
  {
   "cell_type": "code",
   "execution_count": 34,
   "metadata": {},
   "outputs": [],
   "source": [
    "%%local\n",
    "from sagemaker import image_uris\n",
    "image_uri = image_uris.retrieve(\"forecasting-deepar\", sess.boto_region_name)\n",
    "freq = '1H' # 1 hour frequency\n",
    "prediction_length = 168  # predict one week forward\n",
    "context_length = 168 # look at the past week of data\n",
    "s3_output_path = f\"s3://{bucket}/{key_prefix }/output\""
   ]
  },
  {
   "cell_type": "code",
   "execution_count": 35,
   "metadata": {},
   "outputs": [],
   "source": [
    "%%local\n",
    "hyperparameters = {\n",
    "    \"time_freq\": freq,\n",
    "    \"context_length\": str(context_length),\n",
    "    \"prediction_length\": str(prediction_length),\n",
    "    \"num_cells\": \"40\",\n",
    "    \"num_layers\": \"3\",\n",
    "    \"likelihood\": \"gaussian\",\n",
    "    \"epochs\": \"5\",\n",
    "    \"mini_batch_size\": \"32\",\n",
    "    \"learning_rate\": \"0.001\",\n",
    "    \"dropout_rate\": \"0.05\",\n",
    "    \"early_stopping_patience\": \"10\",\n",
    "}"
   ]
  },
  {
   "cell_type": "markdown",
   "metadata": {},
   "source": [
    "We use Sagemaker estimators to setup a managed environment, which takes care of complexities associated with machine learning training and deployment."
   ]
  },
  {
   "cell_type": "code",
   "execution_count": 36,
   "metadata": {},
   "outputs": [
    {
     "name": "stderr",
     "output_type": "stream",
     "text": [
      "/opt/conda/lib/python3.7/site-packages/boto3/compat.py:82: PythonDeprecationWarning:\n",
      "\n",
      "Boto3 will no longer support Python 3.7 starting December 13, 2023. To continue receiving service updates, bug fixes, and security updates please upgrade to Python 3.8 or later. More information can be found here: https://aws.amazon.com/blogs/developer/python-support-policy-updates-for-aws-sdks-and-tools/\n",
      "\n",
      "INFO:sagemaker:Creating training-job with name: deepar-electricity-demand-2023-11-21-19-17-44-172\n"
     ]
    },
    {
     "name": "stdout",
     "output_type": "stream",
     "text": [
      "2023-11-21 19:17:44 Starting - Starting the training job...\n",
      "2023-11-21 19:17:59 Starting - Preparing the instances for training......\n",
      "2023-11-21 19:19:05 Downloading - Downloading input data...\n",
      "2023-11-21 19:19:30 Training - Downloading the training image.........\n",
      "2023-11-21 19:21:01 Training - Training image download completed. Training in progress..\u001b[34mDocker entrypoint called with argument(s): train\u001b[0m\n",
      "\u001b[34mRunning default environment configuration script\u001b[0m\n",
      "\u001b[34mRunning custom environment configuration script\u001b[0m\n",
      "\u001b[34m/opt/amazon/lib/python3.7/site-packages/jsonref.py:8: DeprecationWarning: Using or importing the ABCs from 'collections' instead of from 'collections.abc' is deprecated since Python 3.3,and in 3.9 it will stop working\n",
      "  from collections import Mapping, MutableMapping, Sequence\u001b[0m\n",
      "\u001b[34m[11/21/2023 19:21:17 INFO 139621919102784] Reading default configuration from /opt/amazon/lib/python3.7/site-packages/algorithm/resources/default-input.json: {'_kvstore': 'auto', '_num_gpus': 'auto', '_num_kv_servers': 'auto', '_tuning_objective_metric': '', 'cardinality': 'auto', 'dropout_rate': '0.10', 'early_stopping_patience': '', 'embedding_dimension': '10', 'learning_rate': '0.001', 'likelihood': 'student-t', 'mini_batch_size': '128', 'num_cells': '40', 'num_dynamic_feat': 'auto', 'num_eval_samples': '100', 'num_layers': '2', 'test_quantiles': '[0.1, 0.2, 0.3, 0.4, 0.5, 0.6, 0.7, 0.8, 0.9]'}\u001b[0m\n",
      "\u001b[34m[11/21/2023 19:21:17 INFO 139621919102784] Merging with provided configuration from /opt/ml/input/config/hyperparameters.json: {'context_length': '168', 'dropout_rate': '0.05', 'early_stopping_patience': '10', 'epochs': '5', 'learning_rate': '0.001', 'likelihood': 'gaussian', 'mini_batch_size': '32', 'num_cells': '40', 'num_layers': '3', 'prediction_length': '168', 'time_freq': '1H'}\u001b[0m\n",
      "\u001b[34m[11/21/2023 19:21:17 INFO 139621919102784] Final configuration: {'_kvstore': 'auto', '_num_gpus': 'auto', '_num_kv_servers': 'auto', '_tuning_objective_metric': '', 'cardinality': 'auto', 'dropout_rate': '0.05', 'early_stopping_patience': '10', 'embedding_dimension': '10', 'learning_rate': '0.001', 'likelihood': 'gaussian', 'mini_batch_size': '32', 'num_cells': '40', 'num_dynamic_feat': 'auto', 'num_eval_samples': '100', 'num_layers': '3', 'test_quantiles': '[0.1, 0.2, 0.3, 0.4, 0.5, 0.6, 0.7, 0.8, 0.9]', 'context_length': '168', 'epochs': '5', 'prediction_length': '168', 'time_freq': '1H'}\u001b[0m\n",
      "\u001b[34mProcess 7 is a worker.\u001b[0m\n",
      "\u001b[34m[11/21/2023 19:21:17 INFO 139621919102784] Detected entry point for worker worker\u001b[0m\n",
      "\u001b[34m[11/21/2023 19:21:17 INFO 139621919102784] Using early stopping with patience 10\u001b[0m\n",
      "\u001b[34m[11/21/2023 19:21:17 INFO 139621919102784] random_seed is None\u001b[0m\n",
      "\u001b[34m[11/21/2023 19:21:17 INFO 139621919102784] [cardinality=auto] `cat` field was found in the file `/opt/ml/input/data/train/part-00000-5083e253-62d8-4ac6-b8b5-43ff638e6207-c000.json` and will be used for training.\u001b[0m\n",
      "\u001b[34m[11/21/2023 19:21:17 INFO 139621919102784] [num_dynamic_feat=auto] `dynamic_feat` field was NOT found in the file `/opt/ml/input/data/train/part-00000-5083e253-62d8-4ac6-b8b5-43ff638e6207-c000.json` and will NOT be used for training.\u001b[0m\n",
      "\u001b[34m[11/21/2023 19:21:18 INFO 139621919102784] [cardinality=auto] Inferred value of cardinality=[370] from dataset.\u001b[0m\n",
      "\u001b[34m[11/21/2023 19:21:18 INFO 139621919102784] Training set statistics:\u001b[0m\n",
      "\u001b[34m[11/21/2023 19:21:18 INFO 139621919102784] Real time series\u001b[0m\n",
      "\u001b[34m[11/21/2023 19:21:18 INFO 139621919102784] number of time series: 370\u001b[0m\n",
      "\u001b[34m[11/21/2023 19:21:18 INFO 139621919102784] number of observations: 9732480\u001b[0m\n",
      "\u001b[34m[11/21/2023 19:21:18 INFO 139621919102784] mean target length: 26304.0\u001b[0m\n",
      "\u001b[34m[11/21/2023 19:21:18 INFO 139621919102784] min/mean/max target: 0.0/502.5600468803943/191000.0\u001b[0m\n",
      "\u001b[34m[11/21/2023 19:21:18 INFO 139621919102784] mean abs(target): 502.5600468803943\u001b[0m\n",
      "\u001b[34m[11/21/2023 19:21:18 INFO 139621919102784] contains missing values: no\u001b[0m\n",
      "\u001b[34m[11/21/2023 19:21:18 INFO 139621919102784] No test channel found not running evaluations\u001b[0m\n",
      "\u001b[34m/opt/amazon/lib/python3.7/site-packages/algorithm/core/date_feature_set.py:44: FutureWarning: weekofyear and week have been deprecated, please use DatetimeIndex.isocalendar().week instead, which returns a Series.  To exactly reproduce the behavior of week and weekofyear and return an Index, you may call pd.Int64Index(idx.isocalendar().week)\n",
      "  return index.weekofyear / 51.0 - 0.5\u001b[0m\n",
      "\u001b[34m[11/21/2023 19:21:18 INFO 139621919102784] #memory_usage::<batchbuffer> = 291.42822265625 mb\u001b[0m\n",
      "\u001b[34m[11/21/2023 19:21:18 INFO 139621919102784] nvidia-smi: took 0.029 seconds to run.\u001b[0m\n",
      "\u001b[34m[11/21/2023 19:21:18 INFO 139621919102784] nvidia-smi identified 0 GPUs.\u001b[0m\n",
      "\u001b[34m[11/21/2023 19:21:18 INFO 139621919102784] Number of GPUs being used: 0\u001b[0m\n",
      "\u001b[34m[11/21/2023 19:21:18 INFO 139621919102784] Create Store: local\u001b[0m\n",
      "\u001b[34m#metrics {\"StartTime\": 1700594478.3160446, \"EndTime\": 1700594488.4516716, \"Dimensions\": {\"Algorithm\": \"AWS/DeepAR\", \"Host\": \"algo-1\", \"Operation\": \"training\"}, \"Metrics\": {\"get_graph.time\": {\"sum\": 10134.652614593506, \"count\": 1, \"min\": 10134.652614593506, \"max\": 10134.652614593506}}}\u001b[0m\n",
      "\u001b[34m[11/21/2023 19:21:28 INFO 139621919102784] Number of GPUs being used: 0\u001b[0m\n",
      "\u001b[34m[11/21/2023 19:21:30 INFO 139621919102784] #memory_usage::<model> = 120 mb\u001b[0m\n",
      "\u001b[34m#metrics {\"StartTime\": 1700594488.4517615, \"EndTime\": 1700594490.3486848, \"Dimensions\": {\"Algorithm\": \"AWS/DeepAR\", \"Host\": \"algo-1\", \"Operation\": \"training\"}, \"Metrics\": {\"initialize.time\": {\"sum\": 12032.496929168701, \"count\": 1, \"min\": 12032.496929168701, \"max\": 12032.496929168701}}}\u001b[0m\n",
      "\u001b[34m[11/21/2023 19:21:32 INFO 139621919102784] Epoch[0] Batch[0] avg_epoch_loss=6.958158\u001b[0m\n",
      "\u001b[34m[11/21/2023 19:21:32 INFO 139621919102784] #quality_metric: host=algo-1, epoch=0, batch=0 train loss <loss>=6.958158493041992\u001b[0m\n",
      "\u001b[34m[11/21/2023 19:21:34 INFO 139621919102784] Epoch[0] Batch[5] avg_epoch_loss=6.315853\u001b[0m\n",
      "\u001b[34m[11/21/2023 19:21:34 INFO 139621919102784] #quality_metric: host=algo-1, epoch=0, batch=5 train loss <loss>=6.315853436787923\u001b[0m\n",
      "\u001b[34m[11/21/2023 19:21:34 INFO 139621919102784] Epoch[0] Batch [5]#011Speed: 77.08 samples/sec#011loss=6.315853\u001b[0m\n",
      "\u001b[34m[11/21/2023 19:21:36 INFO 139621919102784] Epoch[0] Batch[10] avg_epoch_loss=6.099240\u001b[0m\n",
      "\u001b[34m[11/21/2023 19:21:36 INFO 139621919102784] #quality_metric: host=algo-1, epoch=0, batch=10 train loss <loss>=5.839303398132325\u001b[0m\n",
      "\u001b[34m[11/21/2023 19:21:36 INFO 139621919102784] Epoch[0] Batch [10]#011Speed: 63.88 samples/sec#011loss=5.839303\u001b[0m\n",
      "\u001b[34m[11/21/2023 19:21:37 INFO 139621919102784] processed a total of 373 examples\u001b[0m\n",
      "\u001b[34m#metrics {\"StartTime\": 1700594490.3487449, \"EndTime\": 1700594497.565607, \"Dimensions\": {\"Algorithm\": \"AWS/DeepAR\", \"Host\": \"algo-1\", \"Operation\": \"training\"}, \"Metrics\": {\"epochs\": {\"sum\": 5.0, \"count\": 1, \"min\": 5, \"max\": 5}, \"update.time\": {\"sum\": 7216.791152954102, \"count\": 1, \"min\": 7216.791152954102, \"max\": 7216.791152954102}}}\u001b[0m\n",
      "\u001b[34m[11/21/2023 19:21:37 INFO 139621919102784] #throughput_metric: host=algo-1, train throughput=51.68415670182434 records/second\u001b[0m\n",
      "\u001b[34m[11/21/2023 19:21:37 INFO 139621919102784] #progress_metric: host=algo-1, completed 20.0 % of epochs\u001b[0m\n",
      "\u001b[34m[11/21/2023 19:21:37 INFO 139621919102784] #quality_metric: host=algo-1, epoch=0, train loss <loss>=6.053756356239319\u001b[0m\n",
      "\u001b[34m[11/21/2023 19:21:37 INFO 139621919102784] best epoch loss so far\u001b[0m\n",
      "\u001b[34m[11/21/2023 19:21:37 INFO 139621919102784] Saved checkpoint to \"/opt/ml/model/state_cb561c3d-8571-4ed4-8994-976f04b9ef55-0000.params\"\u001b[0m\n",
      "\u001b[34m#metrics {\"StartTime\": 1700594497.5656924, \"EndTime\": 1700594497.671368, \"Dimensions\": {\"Algorithm\": \"AWS/DeepAR\", \"Host\": \"algo-1\", \"Operation\": \"training\"}, \"Metrics\": {\"state.serialize.time\": {\"sum\": 105.23104667663574, \"count\": 1, \"min\": 105.23104667663574, \"max\": 105.23104667663574}}}\u001b[0m\n",
      "\u001b[34m[11/21/2023 19:21:39 INFO 139621919102784] Epoch[1] Batch[0] avg_epoch_loss=5.196154\u001b[0m\n",
      "\u001b[34m[11/21/2023 19:21:39 INFO 139621919102784] #quality_metric: host=algo-1, epoch=1, batch=0 train loss <loss>=5.1961541175842285\u001b[0m\n",
      "\u001b[34m[11/21/2023 19:21:41 INFO 139621919102784] Epoch[1] Batch[5] avg_epoch_loss=5.460204\u001b[0m\n",
      "\u001b[34m[11/21/2023 19:21:41 INFO 139621919102784] #quality_metric: host=algo-1, epoch=1, batch=5 train loss <loss>=5.460204044977824\u001b[0m\n",
      "\u001b[34m[11/21/2023 19:21:41 INFO 139621919102784] Epoch[1] Batch [5]#011Speed: 77.54 samples/sec#011loss=5.460204\u001b[0m\n",
      "\u001b[34m[11/21/2023 19:21:43 INFO 139621919102784] Epoch[1] Batch[10] avg_epoch_loss=5.392865\u001b[0m\n",
      "\u001b[34m[11/21/2023 19:21:43 INFO 139621919102784] #quality_metric: host=algo-1, epoch=1, batch=10 train loss <loss>=5.312057113647461\u001b[0m\n",
      "\u001b[34m[11/21/2023 19:21:43 INFO 139621919102784] Epoch[1] Batch [10]#011Speed: 69.58 samples/sec#011loss=5.312057\u001b[0m\n",
      "\u001b[34m[11/21/2023 19:21:44 INFO 139621919102784] processed a total of 369 examples\u001b[0m\n",
      "\u001b[34m#metrics {\"StartTime\": 1700594497.6714337, \"EndTime\": 1700594504.4580035, \"Dimensions\": {\"Algorithm\": \"AWS/DeepAR\", \"Host\": \"algo-1\", \"Operation\": \"training\"}, \"Metrics\": {\"update.time\": {\"sum\": 6786.510944366455, \"count\": 1, \"min\": 6786.510944366455, \"max\": 6786.510944366455}}}\u001b[0m\n",
      "\u001b[34m[11/21/2023 19:21:44 INFO 139621919102784] #throughput_metric: host=algo-1, train throughput=54.3718246748463 records/second\u001b[0m\n",
      "\u001b[34m[11/21/2023 19:21:44 INFO 139621919102784] #progress_metric: host=algo-1, completed 40.0 % of epochs\u001b[0m\n",
      "\u001b[34m[11/21/2023 19:21:44 INFO 139621919102784] #quality_metric: host=algo-1, epoch=1, train loss <loss>=5.372544328371684\u001b[0m\n",
      "\u001b[34m[11/21/2023 19:21:44 INFO 139621919102784] best epoch loss so far\u001b[0m\n",
      "\u001b[34m[11/21/2023 19:21:44 INFO 139621919102784] Saved checkpoint to \"/opt/ml/model/state_9a3a4cc2-b7a3-47e1-a47b-317496d9e25d-0000.params\"\u001b[0m\n",
      "\u001b[34m#metrics {\"StartTime\": 1700594504.4580665, \"EndTime\": 1700594504.5643516, \"Dimensions\": {\"Algorithm\": \"AWS/DeepAR\", \"Host\": \"algo-1\", \"Operation\": \"training\"}, \"Metrics\": {\"state.serialize.time\": {\"sum\": 105.90267181396484, \"count\": 1, \"min\": 105.90267181396484, \"max\": 105.90267181396484}}}\u001b[0m\n",
      "\u001b[34m[11/21/2023 19:21:46 INFO 139621919102784] Epoch[2] Batch[0] avg_epoch_loss=5.393166\u001b[0m\n",
      "\u001b[34m[11/21/2023 19:21:46 INFO 139621919102784] #quality_metric: host=algo-1, epoch=2, batch=0 train loss <loss>=5.3931660652160645\u001b[0m\n",
      "\u001b[34m[11/21/2023 19:21:48 INFO 139621919102784] Epoch[2] Batch[5] avg_epoch_loss=5.110657\u001b[0m\n",
      "\u001b[34m[11/21/2023 19:21:48 INFO 139621919102784] #quality_metric: host=algo-1, epoch=2, batch=5 train loss <loss>=5.110657135645549\u001b[0m\n",
      "\u001b[34m[11/21/2023 19:21:48 INFO 139621919102784] Epoch[2] Batch [5]#011Speed: 75.18 samples/sec#011loss=5.110657\u001b[0m\n",
      "\u001b[34m[11/21/2023 19:21:50 INFO 139621919102784] Epoch[2] Batch[10] avg_epoch_loss=4.963959\u001b[0m\n",
      "\u001b[34m[11/21/2023 19:21:50 INFO 139621919102784] #quality_metric: host=algo-1, epoch=2, batch=10 train loss <loss>=4.787922000885009\u001b[0m\n",
      "\u001b[34m[11/21/2023 19:21:50 INFO 139621919102784] Epoch[2] Batch [10]#011Speed: 69.74 samples/sec#011loss=4.787922\u001b[0m\n",
      "\u001b[34m[11/21/2023 19:21:50 INFO 139621919102784] processed a total of 321 examples\u001b[0m\n",
      "\u001b[34m#metrics {\"StartTime\": 1700594504.5644112, \"EndTime\": 1700594510.7963603, \"Dimensions\": {\"Algorithm\": \"AWS/DeepAR\", \"Host\": \"algo-1\", \"Operation\": \"training\"}, \"Metrics\": {\"update.time\": {\"sum\": 6231.885671615601, \"count\": 1, \"min\": 6231.885671615601, \"max\": 6231.885671615601}}}\u001b[0m\n",
      "\u001b[34m[11/21/2023 19:21:50 INFO 139621919102784] #throughput_metric: host=algo-1, train throughput=51.508500746188915 records/second\u001b[0m\n",
      "\u001b[34m[11/21/2023 19:21:50 INFO 139621919102784] #progress_metric: host=algo-1, completed 60.0 % of epochs\u001b[0m\n",
      "\u001b[34m[11/21/2023 19:21:50 INFO 139621919102784] #quality_metric: host=algo-1, epoch=2, train loss <loss>=4.963959347118031\u001b[0m\n",
      "\u001b[34m[11/21/2023 19:21:50 INFO 139621919102784] best epoch loss so far\u001b[0m\n",
      "\u001b[34m[11/21/2023 19:21:50 INFO 139621919102784] Saved checkpoint to \"/opt/ml/model/state_0c9838ab-523c-4b57-9604-8aab591e2f9d-0000.params\"\u001b[0m\n",
      "\u001b[34m#metrics {\"StartTime\": 1700594510.7964246, \"EndTime\": 1700594510.9016402, \"Dimensions\": {\"Algorithm\": \"AWS/DeepAR\", \"Host\": \"algo-1\", \"Operation\": \"training\"}, \"Metrics\": {\"state.serialize.time\": {\"sum\": 104.82192039489746, \"count\": 1, \"min\": 104.82192039489746, \"max\": 104.82192039489746}}}\u001b[0m\n",
      "\u001b[34m[11/21/2023 19:21:52 INFO 139621919102784] Epoch[3] Batch[0] avg_epoch_loss=5.156009\u001b[0m\n",
      "\u001b[34m[11/21/2023 19:21:52 INFO 139621919102784] #quality_metric: host=algo-1, epoch=3, batch=0 train loss <loss>=5.156008720397949\u001b[0m\n",
      "\u001b[34m[11/21/2023 19:21:54 INFO 139621919102784] Epoch[3] Batch[5] avg_epoch_loss=4.862881\u001b[0m\n",
      "\u001b[34m[11/21/2023 19:21:54 INFO 139621919102784] #quality_metric: host=algo-1, epoch=3, batch=5 train loss <loss>=4.86288062731425\u001b[0m\n",
      "\u001b[34m[11/21/2023 19:21:54 INFO 139621919102784] Epoch[3] Batch [5]#011Speed: 73.88 samples/sec#011loss=4.862881\u001b[0m\n",
      "\u001b[34m[11/21/2023 19:21:57 INFO 139621919102784] Epoch[3] Batch[10] avg_epoch_loss=4.793223\u001b[0m\n",
      "\u001b[34m[11/21/2023 19:21:57 INFO 139621919102784] #quality_metric: host=algo-1, epoch=3, batch=10 train loss <loss>=4.709634304046631\u001b[0m\n",
      "\u001b[34m[11/21/2023 19:21:57 INFO 139621919102784] Epoch[3] Batch [10]#011Speed: 68.91 samples/sec#011loss=4.709634\u001b[0m\n",
      "\u001b[34m[11/21/2023 19:21:57 INFO 139621919102784] processed a total of 367 examples\u001b[0m\n",
      "\u001b[34m#metrics {\"StartTime\": 1700594510.9016988, \"EndTime\": 1700594517.5566692, \"Dimensions\": {\"Algorithm\": \"AWS/DeepAR\", \"Host\": \"algo-1\", \"Operation\": \"training\"}, \"Metrics\": {\"update.time\": {\"sum\": 6654.908895492554, \"count\": 1, \"min\": 6654.908895492554, \"max\": 6654.908895492554}}}\u001b[0m\n",
      "\u001b[34m[11/21/2023 19:21:57 INFO 139621919102784] #throughput_metric: host=algo-1, train throughput=55.14653230671785 records/second\u001b[0m\n",
      "\u001b[34m[11/21/2023 19:21:57 INFO 139621919102784] #progress_metric: host=algo-1, completed 80.0 % of epochs\u001b[0m\n",
      "\u001b[34m[11/21/2023 19:21:57 INFO 139621919102784] #quality_metric: host=algo-1, epoch=3, train loss <loss>=4.74662979443868\u001b[0m\n",
      "\u001b[34m[11/21/2023 19:21:57 INFO 139621919102784] best epoch loss so far\u001b[0m\n",
      "\u001b[34m[11/21/2023 19:21:57 INFO 139621919102784] Saved checkpoint to \"/opt/ml/model/state_c511f4f5-4fb2-49d3-a3b1-cd83880dcf23-0000.params\"\u001b[0m\n",
      "\u001b[34m#metrics {\"StartTime\": 1700594517.5567274, \"EndTime\": 1700594517.6622481, \"Dimensions\": {\"Algorithm\": \"AWS/DeepAR\", \"Host\": \"algo-1\", \"Operation\": \"training\"}, \"Metrics\": {\"state.serialize.time\": {\"sum\": 105.11159896850586, \"count\": 1, \"min\": 105.11159896850586, \"max\": 105.11159896850586}}}\u001b[0m\n",
      "\u001b[34m[11/21/2023 19:21:59 INFO 139621919102784] Epoch[4] Batch[0] avg_epoch_loss=4.661356\u001b[0m\n",
      "\u001b[34m[11/21/2023 19:21:59 INFO 139621919102784] #quality_metric: host=algo-1, epoch=4, batch=0 train loss <loss>=4.661356449127197\u001b[0m\n",
      "\u001b[34m[11/21/2023 19:22:01 INFO 139621919102784] Epoch[4] Batch[5] avg_epoch_loss=4.655262\u001b[0m\n",
      "\u001b[34m[11/21/2023 19:22:01 INFO 139621919102784] #quality_metric: host=algo-1, epoch=4, batch=5 train loss <loss>=4.655261596043904\u001b[0m\n",
      "\u001b[34m[11/21/2023 19:22:01 INFO 139621919102784] Epoch[4] Batch [5]#011Speed: 74.69 samples/sec#011loss=4.655262\u001b[0m\n",
      "\u001b[34m[11/21/2023 19:22:04 INFO 139621919102784] Epoch[4] Batch[10] avg_epoch_loss=4.639565\u001b[0m\n",
      "\u001b[34m[11/21/2023 19:22:04 INFO 139621919102784] #quality_metric: host=algo-1, epoch=4, batch=10 train loss <loss>=4.620728588104248\u001b[0m\n",
      "\u001b[34m[11/21/2023 19:22:04 INFO 139621919102784] Epoch[4] Batch [10]#011Speed: 64.22 samples/sec#011loss=4.620729\u001b[0m\n",
      "\u001b[34m[11/21/2023 19:22:04 INFO 139621919102784] processed a total of 344 examples\u001b[0m\n",
      "\u001b[34m#metrics {\"StartTime\": 1700594517.6623092, \"EndTime\": 1700594524.0462255, \"Dimensions\": {\"Algorithm\": \"AWS/DeepAR\", \"Host\": \"algo-1\", \"Operation\": \"training\"}, \"Metrics\": {\"update.time\": {\"sum\": 6383.857011795044, \"count\": 1, \"min\": 6383.857011795044, \"max\": 6383.857011795044}}}\u001b[0m\n",
      "\u001b[34m[11/21/2023 19:22:04 INFO 139621919102784] #throughput_metric: host=algo-1, train throughput=53.885119767029224 records/second\u001b[0m\n",
      "\u001b[34m[11/21/2023 19:22:04 INFO 139621919102784] #progress_metric: host=algo-1, completed 100.0 % of epochs\u001b[0m\n",
      "\u001b[34m[11/21/2023 19:22:04 INFO 139621919102784] #quality_metric: host=algo-1, epoch=4, train loss <loss>=4.639564774253151\u001b[0m\n",
      "\u001b[34m[11/21/2023 19:22:04 INFO 139621919102784] best epoch loss so far\u001b[0m\n",
      "\u001b[34m[11/21/2023 19:22:04 INFO 139621919102784] Saved checkpoint to \"/opt/ml/model/state_476c7306-baf8-4e45-9b50-7bcea72434a2-0000.params\"\u001b[0m\n",
      "\u001b[34m#metrics {\"StartTime\": 1700594524.046292, \"EndTime\": 1700594524.166852, \"Dimensions\": {\"Algorithm\": \"AWS/DeepAR\", \"Host\": \"algo-1\", \"Operation\": \"training\"}, \"Metrics\": {\"state.serialize.time\": {\"sum\": 120.22829055786133, \"count\": 1, \"min\": 120.22829055786133, \"max\": 120.22829055786133}}}\u001b[0m\n",
      "\u001b[34m[11/21/2023 19:22:04 INFO 139621919102784] Final loss: 4.639564774253151 (occurred at epoch 4)\u001b[0m\n",
      "\u001b[34m[11/21/2023 19:22:04 INFO 139621919102784] #quality_metric: host=algo-1, train final_loss <loss>=4.639564774253151\u001b[0m\n",
      "\u001b[34m/opt/amazon/lib/python3.7/site-packages/algorithm/run_worker.py:360: DeprecationWarning: The 'warn' function is deprecated, use 'warning' instead\n",
      "  \"You are using large values for `context_length` and/or `prediction_length`. \"\u001b[0m\n",
      "\u001b[34m[11/21/2023 19:22:04 WARNING 139621919102784] You are using large values for `context_length` and/or `prediction_length`. The following step may take some time. If the step crashes, use an instance with more memory or reduce these two parameters.\u001b[0m\n",
      "\u001b[34m[11/21/2023 19:22:04 INFO 139621919102784] Worker algo-1 finished training.\u001b[0m\n",
      "\u001b[34m[11/21/2023 19:22:04 WARNING 139621919102784] wait_for_all_workers will not sync workers since the kv store is not running distributed\u001b[0m\n",
      "\u001b[34m[11/21/2023 19:22:04 INFO 139621919102784] All workers finished. Serializing model for prediction.\u001b[0m\n",
      "\u001b[34m#metrics {\"StartTime\": 1700594524.1669133, \"EndTime\": 1700594535.0158045, \"Dimensions\": {\"Algorithm\": \"AWS/DeepAR\", \"Host\": \"algo-1\", \"Operation\": \"training\"}, \"Metrics\": {\"get_graph.time\": {\"sum\": 10848.053455352783, \"count\": 1, \"min\": 10848.053455352783, \"max\": 10848.053455352783}}}\u001b[0m\n",
      "\u001b[34m[11/21/2023 19:22:15 INFO 139621919102784] Number of GPUs being used: 0\u001b[0m\n",
      "\u001b[34m#metrics {\"StartTime\": 1700594535.0158868, \"EndTime\": 1700594535.9590886, \"Dimensions\": {\"Algorithm\": \"AWS/DeepAR\", \"Host\": \"algo-1\", \"Operation\": \"training\"}, \"Metrics\": {\"finalize.time\": {\"sum\": 11791.375398635864, \"count\": 1, \"min\": 11791.375398635864, \"max\": 11791.375398635864}}}\u001b[0m\n",
      "\u001b[34m[11/21/2023 19:22:15 INFO 139621919102784] Serializing to /opt/ml/model/model_algo-1\u001b[0m\n",
      "\u001b[34m[11/21/2023 19:22:16 INFO 139621919102784] Saved checkpoint to \"/opt/ml/model/model_algo-1-0000.params\"\u001b[0m\n",
      "\u001b[34m#metrics {\"StartTime\": 1700594535.959163, \"EndTime\": 1700594536.0518608, \"Dimensions\": {\"Algorithm\": \"AWS/DeepAR\", \"Host\": \"algo-1\", \"Operation\": \"training\"}, \"Metrics\": {\"model.serialize.time\": {\"sum\": 92.65899658203125, \"count\": 1, \"min\": 92.65899658203125, \"max\": 92.65899658203125}}}\u001b[0m\n",
      "\u001b[34m[11/21/2023 19:22:16 INFO 139621919102784] Successfully serialized the model for prediction.\u001b[0m\n",
      "\u001b[34m[11/21/2023 19:22:16 INFO 139621919102784] No test data passed, skipping evaluation.\u001b[0m\n",
      "\u001b[34m#metrics {\"StartTime\": 1700594536.0519075, \"EndTime\": 1700594536.25567, \"Dimensions\": {\"Algorithm\": \"AWS/DeepAR\", \"Host\": \"algo-1\", \"Operation\": \"training\"}, \"Metrics\": {\"setuptime\": {\"sum\": 5.129814147949219, \"count\": 1, \"min\": 5.129814147949219, \"max\": 5.129814147949219}, \"totaltime\": {\"sum\": 59165.35258293152, \"count\": 1, \"min\": 59165.35258293152, \"max\": 59165.35258293152}}}\u001b[0m\n",
      "\n",
      "2023-11-21 19:22:33 Uploading - Uploading generated training model\n",
      "2023-11-21 19:22:33 Completed - Training job completed\n",
      "Training seconds: 207\n",
      "Billable seconds: 207\n"
     ]
    }
   ],
   "source": [
    "%%local\n",
    "deepar_estimator = sagemaker.estimator.Estimator(\n",
    "    sagemaker_session=sess,\n",
    "    image_uri=image_uri,\n",
    "    role=role,\n",
    "    instance_count=1,\n",
    "    instance_type=\"ml.c5.2xlarge\",\n",
    "    base_job_name=\"deepar-electricity-demand\",\n",
    "    hyperparameters=hyperparameters,\n",
    "    output_path=s3_output_path\n",
    ")\n",
    "\n",
    "deepar_estimator.fit({\"train\": s3_processed_data_location})"
   ]
  },
  {
   "cell_type": "markdown",
   "metadata": {},
   "source": [
    "# Run Batch Inference \n",
    "Now that we have a trained model, let's setup a batch transform job. We will provide the final month of our training data (December 2013) as the input and have DeepAR forecast the first week of the test data. We will then compare the prediction against the actual values <br>\n",
    "Note for DeepAR, we need to provide at a minimum of `context_length` worth of data points to get a forecast for the `prediction_length`. Providing more data during inference (ideally the enitre timeseries) could result in better predictions as DeepAR is better able to account for longer term trends"
   ]
  },
  {
   "cell_type": "code",
   "execution_count": 37,
   "metadata": {},
   "outputs": [],
   "source": [
    "%%local\n",
    "s3_batch_transform_input = f\"s3://{bucket}/{key_prefix}/bt_input\""
   ]
  },
  {
   "cell_type": "code",
   "execution_count": 38,
   "metadata": {},
   "outputs": [
    {
     "data": {
      "application/vnd.jupyter.widget-view+json": {
       "model_id": "",
       "version_major": 2,
       "version_minor": 0
      },
      "text/plain": [
       "FloatProgress(value=0.0, bar_style='info', description='Progress:', layout=Layout(height='25px', width='50%'),…"
      ]
     },
     "metadata": {},
     "output_type": "display_data"
    },
    {
     "name": "stdout",
     "output_type": "stream",
     "text": [
      "Successfully passed 's3_batch_transform_input' as 's3_batch_transform_input' to Spark kernel"
     ]
    }
   ],
   "source": [
    "%%send_to_spark -i s3_batch_transform_input -t str -n s3_batch_transform_input"
   ]
  },
  {
   "cell_type": "code",
   "execution_count": 39,
   "metadata": {},
   "outputs": [
    {
     "data": {
      "application/vnd.jupyter.widget-view+json": {
       "model_id": "",
       "version_major": 2,
       "version_minor": 0
      },
      "text/plain": [
       "FloatProgress(value=0.0, bar_style='info', description='Progress:', layout=Layout(height='25px', width='50%'),…"
      ]
     },
     "metadata": {},
     "output_type": "display_data"
    }
   ],
   "source": [
    "# to avoid having to recreate a DeepAR input, we'll get the index of the start date of the batch transform input and slice the target column in the train_data\n",
    "bt_input_start = \"2013-12-01 00:00:00\"\n",
    "date_range = pd.date_range(train_start_date, end_date, freq=\"1H\") # date range for the entire dataset\n",
    "bt_start_index = date_range.get_loc(bt_input_start)"
   ]
  },
  {
   "cell_type": "code",
   "execution_count": 40,
   "metadata": {},
   "outputs": [
    {
     "data": {
      "application/vnd.jupyter.widget-view+json": {
       "model_id": "",
       "version_major": 2,
       "version_minor": 0
      },
      "text/plain": [
       "FloatProgress(value=0.0, bar_style='info', description='Progress:', layout=Layout(height='25px', width='50%'),…"
      ]
     },
     "metadata": {},
     "output_type": "display_data"
    }
   ],
   "source": [
    "bt_input_data = train_data.select(fn.lit(bt_input_start).alias(\"start\"), \n",
    "                                  fn.col(\"cat\"),\n",
    "                                  fn.slice(\"target\", bt_start_index, 10_000).alias(\"target\"))"
   ]
  },
  {
   "cell_type": "code",
   "execution_count": 41,
   "metadata": {},
   "outputs": [
    {
     "data": {
      "application/vnd.jupyter.widget-view+json": {
       "model_id": "",
       "version_major": 2,
       "version_minor": 0
      },
      "text/plain": [
       "FloatProgress(value=0.0, bar_style='info', description='Progress:', layout=Layout(height='25px', width='50%'),…"
      ]
     },
     "metadata": {},
     "output_type": "display_data"
    }
   ],
   "source": [
    "bt_input_data.write.mode(\"overwrite\").json(s3_batch_transform_input)"
   ]
  },
  {
   "cell_type": "code",
   "execution_count": 42,
   "metadata": {},
   "outputs": [
    {
     "name": "stderr",
     "output_type": "stream",
     "text": [
      "INFO:sagemaker:Creating model with name: deepar-electricity-demand-2023-11-21-19-28-09-231\n"
     ]
    }
   ],
   "source": [
    "%%local\n",
    "s3_bt_output_path = f\"s3://{bucket}/{key_prefix}/bt_output\"\n",
    "\n",
    "deepar_transformer = deepar_estimator.transformer(instance_count=1,\n",
    "                                                  instance_type=\"ml.m5.xlarge\",\n",
    "                                                  strategy=\"SingleRecord\",\n",
    "                                                  assemble_with=\"Line\",\n",
    "                                                  accept=\"application/jsonlines\",\n",
    "                                                  output_path= s3_bt_output_path\n",
    "                                                 )"
   ]
  },
  {
   "cell_type": "code",
   "execution_count": 43,
   "metadata": {},
   "outputs": [
    {
     "name": "stderr",
     "output_type": "stream",
     "text": [
      "INFO:sagemaker:Creating transform job with name: deepar-electricity-demand-2023-11-21-19-28-30-700\n"
     ]
    },
    {
     "ename": "ResourceLimitExceeded",
     "evalue": "An error occurred (ResourceLimitExceeded) when calling the CreateTransformJob operation: The account-level service limit 'ml.m5.xlarge for transform job usage' is 0 Instances, with current utilization of 0 Instances and a request delta of 1 Instances. Please use AWS Service Quotas to request an increase for this quota. If AWS Service Quotas is not available, contact AWS support to request an increase for this quota.",
     "output_type": "error",
     "traceback": [
      "\u001b[0;31m---------------------------------------------------------------------------\u001b[0m",
      "\u001b[0;31mResourceLimitExceeded\u001b[0m                     Traceback (most recent call last)",
      "\u001b[0;32m<ipython-input-43-b2de52c6f66b>\u001b[0m in \u001b[0;36m<module>\u001b[0;34m\u001b[0m\n\u001b[1;32m      3\u001b[0m                              \u001b[0mjoin_source\u001b[0m\u001b[0;34m=\u001b[0m\u001b[0;34m\"Input\"\u001b[0m\u001b[0;34m,\u001b[0m\u001b[0;34m\u001b[0m\u001b[0;34m\u001b[0m\u001b[0m\n\u001b[1;32m      4\u001b[0m                              \u001b[0msplit_type\u001b[0m\u001b[0;34m=\u001b[0m\u001b[0;34m\"Line\"\u001b[0m\u001b[0;34m,\u001b[0m\u001b[0;34m\u001b[0m\u001b[0;34m\u001b[0m\u001b[0m\n\u001b[0;32m----> 5\u001b[0;31m                              logs=False)\n\u001b[0m",
      "\u001b[0;32m/opt/conda/lib/python3.7/site-packages/sagemaker/workflow/pipeline_context.py\u001b[0m in \u001b[0;36mwrapper\u001b[0;34m(*args, **kwargs)\u001b[0m\n\u001b[1;32m    309\u001b[0m             \u001b[0;32mreturn\u001b[0m \u001b[0m_StepArguments\u001b[0m\u001b[0;34m(\u001b[0m\u001b[0mretrieve_caller_name\u001b[0m\u001b[0;34m(\u001b[0m\u001b[0mself_instance\u001b[0m\u001b[0;34m)\u001b[0m\u001b[0;34m,\u001b[0m \u001b[0mrun_func\u001b[0m\u001b[0;34m,\u001b[0m \u001b[0;34m*\u001b[0m\u001b[0margs\u001b[0m\u001b[0;34m,\u001b[0m \u001b[0;34m**\u001b[0m\u001b[0mkwargs\u001b[0m\u001b[0;34m)\u001b[0m\u001b[0;34m\u001b[0m\u001b[0;34m\u001b[0m\u001b[0m\n\u001b[1;32m    310\u001b[0m \u001b[0;34m\u001b[0m\u001b[0m\n\u001b[0;32m--> 311\u001b[0;31m         \u001b[0;32mreturn\u001b[0m \u001b[0mrun_func\u001b[0m\u001b[0;34m(\u001b[0m\u001b[0;34m*\u001b[0m\u001b[0margs\u001b[0m\u001b[0;34m,\u001b[0m \u001b[0;34m**\u001b[0m\u001b[0mkwargs\u001b[0m\u001b[0;34m)\u001b[0m\u001b[0;34m\u001b[0m\u001b[0;34m\u001b[0m\u001b[0m\n\u001b[0m\u001b[1;32m    312\u001b[0m \u001b[0;34m\u001b[0m\u001b[0m\n\u001b[1;32m    313\u001b[0m     \u001b[0;32mreturn\u001b[0m \u001b[0mwrapper\u001b[0m\u001b[0;34m\u001b[0m\u001b[0;34m\u001b[0m\u001b[0m\n",
      "\u001b[0;32m/opt/conda/lib/python3.7/site-packages/sagemaker/transformer.py\u001b[0m in \u001b[0;36mtransform\u001b[0;34m(self, data, data_type, content_type, compression_type, split_type, job_name, input_filter, output_filter, join_source, experiment_config, model_client_config, batch_data_capture_config, wait, logs)\u001b[0m\n\u001b[1;32m    310\u001b[0m             \u001b[0mexperiment_config\u001b[0m\u001b[0;34m,\u001b[0m\u001b[0;34m\u001b[0m\u001b[0;34m\u001b[0m\u001b[0m\n\u001b[1;32m    311\u001b[0m             \u001b[0mmodel_client_config\u001b[0m\u001b[0;34m,\u001b[0m\u001b[0;34m\u001b[0m\u001b[0;34m\u001b[0m\u001b[0m\n\u001b[0;32m--> 312\u001b[0;31m             \u001b[0mbatch_data_capture_config\u001b[0m\u001b[0;34m,\u001b[0m\u001b[0;34m\u001b[0m\u001b[0;34m\u001b[0m\u001b[0m\n\u001b[0m\u001b[1;32m    313\u001b[0m         )\n\u001b[1;32m    314\u001b[0m \u001b[0;34m\u001b[0m\u001b[0m\n",
      "\u001b[0;32m/opt/conda/lib/python3.7/site-packages/sagemaker/transformer.py\u001b[0m in \u001b[0;36mstart_new\u001b[0;34m(cls, transformer, data, data_type, content_type, compression_type, split_type, input_filter, output_filter, join_source, experiment_config, model_client_config, batch_data_capture_config)\u001b[0m\n\u001b[1;32m    631\u001b[0m         )\n\u001b[1;32m    632\u001b[0m \u001b[0;34m\u001b[0m\u001b[0m\n\u001b[0;32m--> 633\u001b[0;31m         \u001b[0mtransformer\u001b[0m\u001b[0;34m.\u001b[0m\u001b[0msagemaker_session\u001b[0m\u001b[0;34m.\u001b[0m\u001b[0mtransform\u001b[0m\u001b[0;34m(\u001b[0m\u001b[0;34m**\u001b[0m\u001b[0mtransform_args\u001b[0m\u001b[0;34m)\u001b[0m\u001b[0;34m\u001b[0m\u001b[0;34m\u001b[0m\u001b[0m\n\u001b[0m\u001b[1;32m    634\u001b[0m \u001b[0;34m\u001b[0m\u001b[0m\n\u001b[1;32m    635\u001b[0m         \u001b[0;32mreturn\u001b[0m \u001b[0mcls\u001b[0m\u001b[0;34m(\u001b[0m\u001b[0mtransformer\u001b[0m\u001b[0;34m.\u001b[0m\u001b[0msagemaker_session\u001b[0m\u001b[0;34m,\u001b[0m \u001b[0mtransformer\u001b[0m\u001b[0;34m.\u001b[0m\u001b[0m_current_job_name\u001b[0m\u001b[0;34m)\u001b[0m\u001b[0;34m\u001b[0m\u001b[0;34m\u001b[0m\u001b[0m\n",
      "\u001b[0;32m/opt/conda/lib/python3.7/site-packages/sagemaker/session.py\u001b[0m in \u001b[0;36mtransform\u001b[0;34m(self, job_name, model_name, strategy, max_concurrent_transforms, max_payload, input_config, output_config, resource_config, experiment_config, env, tags, data_processing, model_client_config, batch_data_capture_config)\u001b[0m\n\u001b[1;32m   3368\u001b[0m             \u001b[0mself\u001b[0m\u001b[0;34m.\u001b[0m\u001b[0msagemaker_client\u001b[0m\u001b[0;34m.\u001b[0m\u001b[0mcreate_transform_job\u001b[0m\u001b[0;34m(\u001b[0m\u001b[0;34m**\u001b[0m\u001b[0mrequest\u001b[0m\u001b[0;34m)\u001b[0m\u001b[0;34m\u001b[0m\u001b[0;34m\u001b[0m\u001b[0m\n\u001b[1;32m   3369\u001b[0m \u001b[0;34m\u001b[0m\u001b[0m\n\u001b[0;32m-> 3370\u001b[0;31m         \u001b[0mself\u001b[0m\u001b[0;34m.\u001b[0m\u001b[0m_intercept_create_request\u001b[0m\u001b[0;34m(\u001b[0m\u001b[0mtransform_request\u001b[0m\u001b[0;34m,\u001b[0m \u001b[0msubmit\u001b[0m\u001b[0;34m,\u001b[0m \u001b[0mself\u001b[0m\u001b[0;34m.\u001b[0m\u001b[0mtransform\u001b[0m\u001b[0;34m.\u001b[0m\u001b[0m__name__\u001b[0m\u001b[0;34m)\u001b[0m\u001b[0;34m\u001b[0m\u001b[0;34m\u001b[0m\u001b[0m\n\u001b[0m\u001b[1;32m   3371\u001b[0m \u001b[0;34m\u001b[0m\u001b[0m\n\u001b[1;32m   3372\u001b[0m     def _create_model_request(\n",
      "\u001b[0;32m/opt/conda/lib/python3.7/site-packages/sagemaker/session.py\u001b[0m in \u001b[0;36m_intercept_create_request\u001b[0;34m(self, request, create, func_name)\u001b[0m\n\u001b[1;32m   5492\u001b[0m             \u001b[0mfunc_name\u001b[0m \u001b[0;34m(\u001b[0m\u001b[0mstr\u001b[0m\u001b[0;34m)\u001b[0m\u001b[0;34m:\u001b[0m \u001b[0mthe\u001b[0m \u001b[0mname\u001b[0m \u001b[0mof\u001b[0m \u001b[0mthe\u001b[0m \u001b[0mfunction\u001b[0m \u001b[0mneeded\u001b[0m \u001b[0mintercepting\u001b[0m\u001b[0;34m\u001b[0m\u001b[0;34m\u001b[0m\u001b[0m\n\u001b[1;32m   5493\u001b[0m         \"\"\"\n\u001b[0;32m-> 5494\u001b[0;31m         \u001b[0;32mreturn\u001b[0m \u001b[0mcreate\u001b[0m\u001b[0;34m(\u001b[0m\u001b[0mrequest\u001b[0m\u001b[0;34m)\u001b[0m\u001b[0;34m\u001b[0m\u001b[0;34m\u001b[0m\u001b[0m\n\u001b[0m\u001b[1;32m   5495\u001b[0m \u001b[0;34m\u001b[0m\u001b[0m\n\u001b[1;32m   5496\u001b[0m     def _create_inference_recommendations_job_request(\n",
      "\u001b[0;32m/opt/conda/lib/python3.7/site-packages/sagemaker/session.py\u001b[0m in \u001b[0;36msubmit\u001b[0;34m(request)\u001b[0m\n\u001b[1;32m   3366\u001b[0m             \u001b[0mLOGGER\u001b[0m\u001b[0;34m.\u001b[0m\u001b[0minfo\u001b[0m\u001b[0;34m(\u001b[0m\u001b[0;34m\"Creating transform job with name: %s\"\u001b[0m\u001b[0;34m,\u001b[0m \u001b[0mjob_name\u001b[0m\u001b[0;34m)\u001b[0m\u001b[0;34m\u001b[0m\u001b[0;34m\u001b[0m\u001b[0m\n\u001b[1;32m   3367\u001b[0m             \u001b[0mLOGGER\u001b[0m\u001b[0;34m.\u001b[0m\u001b[0mdebug\u001b[0m\u001b[0;34m(\u001b[0m\u001b[0;34m\"Transform request: %s\"\u001b[0m\u001b[0;34m,\u001b[0m \u001b[0mjson\u001b[0m\u001b[0;34m.\u001b[0m\u001b[0mdumps\u001b[0m\u001b[0;34m(\u001b[0m\u001b[0mrequest\u001b[0m\u001b[0;34m,\u001b[0m \u001b[0mindent\u001b[0m\u001b[0;34m=\u001b[0m\u001b[0;36m4\u001b[0m\u001b[0;34m)\u001b[0m\u001b[0;34m)\u001b[0m\u001b[0;34m\u001b[0m\u001b[0;34m\u001b[0m\u001b[0m\n\u001b[0;32m-> 3368\u001b[0;31m             \u001b[0mself\u001b[0m\u001b[0;34m.\u001b[0m\u001b[0msagemaker_client\u001b[0m\u001b[0;34m.\u001b[0m\u001b[0mcreate_transform_job\u001b[0m\u001b[0;34m(\u001b[0m\u001b[0;34m**\u001b[0m\u001b[0mrequest\u001b[0m\u001b[0;34m)\u001b[0m\u001b[0;34m\u001b[0m\u001b[0;34m\u001b[0m\u001b[0m\n\u001b[0m\u001b[1;32m   3369\u001b[0m \u001b[0;34m\u001b[0m\u001b[0m\n\u001b[1;32m   3370\u001b[0m         \u001b[0mself\u001b[0m\u001b[0;34m.\u001b[0m\u001b[0m_intercept_create_request\u001b[0m\u001b[0;34m(\u001b[0m\u001b[0mtransform_request\u001b[0m\u001b[0;34m,\u001b[0m \u001b[0msubmit\u001b[0m\u001b[0;34m,\u001b[0m \u001b[0mself\u001b[0m\u001b[0;34m.\u001b[0m\u001b[0mtransform\u001b[0m\u001b[0;34m.\u001b[0m\u001b[0m__name__\u001b[0m\u001b[0;34m)\u001b[0m\u001b[0;34m\u001b[0m\u001b[0;34m\u001b[0m\u001b[0m\n",
      "\u001b[0;32m/opt/conda/lib/python3.7/site-packages/botocore/client.py\u001b[0m in \u001b[0;36m_api_call\u001b[0;34m(self, *args, **kwargs)\u001b[0m\n\u001b[1;32m    533\u001b[0m                 )\n\u001b[1;32m    534\u001b[0m             \u001b[0;31m# The \"self\" in this scope is referring to the BaseClient.\u001b[0m\u001b[0;34m\u001b[0m\u001b[0;34m\u001b[0m\u001b[0;34m\u001b[0m\u001b[0m\n\u001b[0;32m--> 535\u001b[0;31m             \u001b[0;32mreturn\u001b[0m \u001b[0mself\u001b[0m\u001b[0;34m.\u001b[0m\u001b[0m_make_api_call\u001b[0m\u001b[0;34m(\u001b[0m\u001b[0moperation_name\u001b[0m\u001b[0;34m,\u001b[0m \u001b[0mkwargs\u001b[0m\u001b[0;34m)\u001b[0m\u001b[0;34m\u001b[0m\u001b[0;34m\u001b[0m\u001b[0m\n\u001b[0m\u001b[1;32m    536\u001b[0m \u001b[0;34m\u001b[0m\u001b[0m\n\u001b[1;32m    537\u001b[0m         \u001b[0m_api_call\u001b[0m\u001b[0;34m.\u001b[0m\u001b[0m__name__\u001b[0m \u001b[0;34m=\u001b[0m \u001b[0mstr\u001b[0m\u001b[0;34m(\u001b[0m\u001b[0mpy_operation_name\u001b[0m\u001b[0;34m)\u001b[0m\u001b[0;34m\u001b[0m\u001b[0;34m\u001b[0m\u001b[0m\n",
      "\u001b[0;32m/opt/conda/lib/python3.7/site-packages/botocore/client.py\u001b[0m in \u001b[0;36m_make_api_call\u001b[0;34m(self, operation_name, api_params)\u001b[0m\n\u001b[1;32m    978\u001b[0m             \u001b[0merror_code\u001b[0m \u001b[0;34m=\u001b[0m \u001b[0mparsed_response\u001b[0m\u001b[0;34m.\u001b[0m\u001b[0mget\u001b[0m\u001b[0;34m(\u001b[0m\u001b[0;34m\"Error\"\u001b[0m\u001b[0;34m,\u001b[0m \u001b[0;34m{\u001b[0m\u001b[0;34m}\u001b[0m\u001b[0;34m)\u001b[0m\u001b[0;34m.\u001b[0m\u001b[0mget\u001b[0m\u001b[0;34m(\u001b[0m\u001b[0;34m\"Code\"\u001b[0m\u001b[0;34m)\u001b[0m\u001b[0;34m\u001b[0m\u001b[0;34m\u001b[0m\u001b[0m\n\u001b[1;32m    979\u001b[0m             \u001b[0merror_class\u001b[0m \u001b[0;34m=\u001b[0m \u001b[0mself\u001b[0m\u001b[0;34m.\u001b[0m\u001b[0mexceptions\u001b[0m\u001b[0;34m.\u001b[0m\u001b[0mfrom_code\u001b[0m\u001b[0;34m(\u001b[0m\u001b[0merror_code\u001b[0m\u001b[0;34m)\u001b[0m\u001b[0;34m\u001b[0m\u001b[0;34m\u001b[0m\u001b[0m\n\u001b[0;32m--> 980\u001b[0;31m             \u001b[0;32mraise\u001b[0m \u001b[0merror_class\u001b[0m\u001b[0;34m(\u001b[0m\u001b[0mparsed_response\u001b[0m\u001b[0;34m,\u001b[0m \u001b[0moperation_name\u001b[0m\u001b[0;34m)\u001b[0m\u001b[0;34m\u001b[0m\u001b[0;34m\u001b[0m\u001b[0m\n\u001b[0m\u001b[1;32m    981\u001b[0m         \u001b[0;32melse\u001b[0m\u001b[0;34m:\u001b[0m\u001b[0;34m\u001b[0m\u001b[0;34m\u001b[0m\u001b[0m\n\u001b[1;32m    982\u001b[0m             \u001b[0;32mreturn\u001b[0m \u001b[0mparsed_response\u001b[0m\u001b[0;34m\u001b[0m\u001b[0;34m\u001b[0m\u001b[0m\n",
      "\u001b[0;31mResourceLimitExceeded\u001b[0m: An error occurred (ResourceLimitExceeded) when calling the CreateTransformJob operation: The account-level service limit 'ml.m5.xlarge for transform job usage' is 0 Instances, with current utilization of 0 Instances and a request delta of 1 Instances. Please use AWS Service Quotas to request an increase for this quota. If AWS Service Quotas is not available, contact AWS support to request an increase for this quota."
     ]
    }
   ],
   "source": [
    "%%local\n",
    "deepar_transformer.transform(s3_batch_transform_input, \n",
    "                             content_type=\"application/jsonlines\", \n",
    "                             join_source=\"Input\", \n",
    "                             split_type=\"Line\",\n",
    "                             logs=False)"
   ]
  },
  {
   "cell_type": "code",
   "execution_count": null,
   "metadata": {},
   "outputs": [],
   "source": [
    "%%send_to_spark -i s3_bt_output_path -t str -n s3_bt_output_path"
   ]
  },
  {
   "cell_type": "code",
   "execution_count": null,
   "metadata": {},
   "outputs": [],
   "source": [
    "bt_output = spark.read.json(s3_bt_output_path) # read batch transform output from S3"
   ]
  },
  {
   "cell_type": "markdown",
   "metadata": {},
   "source": [
    "## Visualize Forecast Results"
   ]
  },
  {
   "cell_type": "code",
   "execution_count": null,
   "metadata": {},
   "outputs": [],
   "source": [
    "def plot_forecast(client, actual, time_range, predictions):\n",
    "    \n",
    "    \n",
    "    p10 = predictions['quantiles']['0.1']\n",
    "    p25 = predictions['quantiles']['0.2']\n",
    "    p50 = predictions['quantiles']['0.5']\n",
    "    p75 = predictions['quantiles']['0.8']\n",
    "    p90 = predictions['quantiles']['0.9']\n",
    "    prediction = predictions['mean']\n",
    "    \n",
    "    fig, ax = plt.subplots(figsize=(14,6))\n",
    "    ts = ax.plot(time_range[-prediction_length:], prediction,  label=\"Prediction\", marker=\"o\")\n",
    "    ts = ax.plot(time_range[:len(actual)], actual, label=\"Actual\", marker=\"X\")\n",
    "    ax.fill_between(time_range[-prediction_length:], p10, p25, alpha=0.5, label=\"P10-P20\", color=\"#2A9D8F\")\n",
    "    ax.fill_between(time_range[-prediction_length:], p25, p75, alpha=0.5, label=\"P20-P80\", color=\"#E9C46A\")\n",
    "    ax.fill_between(time_range[-prediction_length:], p75, p90, alpha=0.5, label=\"P80-P90\", color=\"#E76F51\")\n",
    "    ax.legend(loc=\"best\")\n",
    "    \n",
    "    ax.set(title=f\"{client} Electricity Demand Forecast\", xlabel=\"date\", ylabel=\"demand\")"
   ]
  },
  {
   "cell_type": "code",
   "execution_count": null,
   "metadata": {},
   "outputs": [],
   "source": [
    "# let's visualize the forecast of a single random customer and compare against the actual values\n",
    "rnd_client, rnd_client_enc = random.choice(list(client_encoder.items()))\n",
    "forecast = bt_output.filter(fn.col(\"cat\")[0] == rnd_client_enc).collect()[0][\"SageMakerOutput\"].asDict()\n",
    "prediction_length = len(forecast[\"mean\"])\n",
    "\n",
    "forecast_start_index = date_range.get_loc(test_start_date).start\n",
    "forecast_end_index = forecast_start_index + prediction_length\n",
    "forecast_date_range = date_range[forecast_start_index:forecast_end_index]\n",
    "forecast_date_range_str = list(map(str, forecast_date_range.to_list()))\n",
    "actual_values = (data\n",
    "     .where((fn.col(\"client\") == rnd_client) & \n",
    "            (fn.col(\"date\").isin(forecast_date_range_str)))\n",
    "     .orderBy(\"date\")\n",
    "     .toPandas()\n",
    "    )[\"value\"].values.tolist()\n",
    "\n",
    "plt.clf()\n",
    "plot_forecast(rnd_client, actual_values, forecast_date_range, forecast)\n",
    "%matplot plt"
   ]
  },
  {
   "cell_type": "markdown",
   "metadata": {},
   "source": [
    "# Cleanup\n"
   ]
  },
  {
   "cell_type": "code",
   "execution_count": null,
   "metadata": {
    "tags": []
   },
   "outputs": [],
   "source": [
    "%%cleanup -f"
   ]
  },
  {
   "cell_type": "markdown",
   "metadata": {},
   "source": [
    "# Issues & Next Steps"
   ]
  },
  {
   "cell_type": "markdown",
   "metadata": {},
   "source": [
    "_Unfortunately, I do not have the resources currently to run a batch transformation. I have created a request for the same._ \n",
    "Meanwhile, I pondered over how I can circumvent this issue and since the model is trained, whether it would be possible to deploy it to an endpoint and pass the batch input one record at a time. Below can be considered a rough pseudo-code for the process."
   ]
  },
  {
   "cell_type": "code",
   "execution_count": null,
   "metadata": {},
   "outputs": [],
   "source": [
    "%%local\n",
    "deepar_predictor = deepar_estimator.deploy(initial_instance_count=1, \n",
    "                                           instance_type=\"ml.m5.xlarge\")\n"
   ]
  },
  {
   "cell_type": "code",
   "execution_count": null,
   "metadata": {
    "vscode": {
     "languageId": "plaintext"
    }
   },
   "outputs": [],
   "source": [
    "# Assuming 'prepare_data_for_prediction' formats the data for sending to the endpoint\n",
    "data_for_prediction = prepare_data_for_prediction(train_data, bt_input_start, bt_start_index)\n"
   ]
  },
  {
   "cell_type": "code",
   "execution_count": null,
   "metadata": {
    "vscode": {
     "languageId": "plaintext"
    }
   },
   "outputs": [],
   "source": [
    "%%local\n",
    "# Serialize your input data to JSON (or the format accepted by your model)\n",
    "serialized_data = json.dumps(data_for_prediction)\n",
    "\n",
    "# Get predictions from the endpoint\n",
    "response = deepar_predictor.predict(serialized_data, initial_args={\"ContentType\": \"application/json\"})\n",
    "predictions = json.loads(response)  # Deserialize the response\n"
   ]
  },
  {
   "cell_type": "code",
   "execution_count": null,
   "metadata": {
    "vscode": {
     "languageId": "plaintext"
    }
   },
   "outputs": [],
   "source": [
    "%%local\n",
    "plt.clf()\n",
    "plot_forecast(rnd_client, actual_values, forecast_date_range, predictions)\n",
    "%matplot plt\n"
   ]
  },
  {
   "cell_type": "code",
   "execution_count": null,
   "metadata": {
    "vscode": {
     "languageId": "plaintext"
    }
   },
   "outputs": [],
   "source": [
    "%%local\n",
    "deepar_predictor.delete_endpoint()\n"
   ]
  },
  {
   "cell_type": "markdown",
   "metadata": {},
   "source": [
    "This is not the ideal way to treat forecasting data and might hamper prediction even if(!) it works.\n",
    "\n",
    "For future work, I can try incremental processing, where I consider only new or changed data since the last run. This would mean I have to train the DeepAR model in batches, separated by the date-time stamp and then fit on new data for predictions. "
   ]
  }
 ],
 "metadata": {
  "availableInstances": [
   {
    "_defaultOrder": 0,
    "_isFastLaunch": true,
    "category": "General purpose",
    "gpuNum": 0,
    "hideHardwareSpecs": false,
    "memoryGiB": 4,
    "name": "ml.t3.medium",
    "vcpuNum": 2
   },
   {
    "_defaultOrder": 1,
    "_isFastLaunch": false,
    "category": "General purpose",
    "gpuNum": 0,
    "hideHardwareSpecs": false,
    "memoryGiB": 8,
    "name": "ml.t3.large",
    "vcpuNum": 2
   },
   {
    "_defaultOrder": 2,
    "_isFastLaunch": false,
    "category": "General purpose",
    "gpuNum": 0,
    "hideHardwareSpecs": false,
    "memoryGiB": 16,
    "name": "ml.t3.xlarge",
    "vcpuNum": 4
   },
   {
    "_defaultOrder": 3,
    "_isFastLaunch": false,
    "category": "General purpose",
    "gpuNum": 0,
    "hideHardwareSpecs": false,
    "memoryGiB": 32,
    "name": "ml.t3.2xlarge",
    "vcpuNum": 8
   },
   {
    "_defaultOrder": 4,
    "_isFastLaunch": true,
    "category": "General purpose",
    "gpuNum": 0,
    "hideHardwareSpecs": false,
    "memoryGiB": 8,
    "name": "ml.m5.large",
    "vcpuNum": 2
   },
   {
    "_defaultOrder": 5,
    "_isFastLaunch": false,
    "category": "General purpose",
    "gpuNum": 0,
    "hideHardwareSpecs": false,
    "memoryGiB": 16,
    "name": "ml.m5.xlarge",
    "vcpuNum": 4
   },
   {
    "_defaultOrder": 6,
    "_isFastLaunch": false,
    "category": "General purpose",
    "gpuNum": 0,
    "hideHardwareSpecs": false,
    "memoryGiB": 32,
    "name": "ml.m5.2xlarge",
    "vcpuNum": 8
   },
   {
    "_defaultOrder": 7,
    "_isFastLaunch": false,
    "category": "General purpose",
    "gpuNum": 0,
    "hideHardwareSpecs": false,
    "memoryGiB": 64,
    "name": "ml.m5.4xlarge",
    "vcpuNum": 16
   },
   {
    "_defaultOrder": 8,
    "_isFastLaunch": false,
    "category": "General purpose",
    "gpuNum": 0,
    "hideHardwareSpecs": false,
    "memoryGiB": 128,
    "name": "ml.m5.8xlarge",
    "vcpuNum": 32
   },
   {
    "_defaultOrder": 9,
    "_isFastLaunch": false,
    "category": "General purpose",
    "gpuNum": 0,
    "hideHardwareSpecs": false,
    "memoryGiB": 192,
    "name": "ml.m5.12xlarge",
    "vcpuNum": 48
   },
   {
    "_defaultOrder": 10,
    "_isFastLaunch": false,
    "category": "General purpose",
    "gpuNum": 0,
    "hideHardwareSpecs": false,
    "memoryGiB": 256,
    "name": "ml.m5.16xlarge",
    "vcpuNum": 64
   },
   {
    "_defaultOrder": 11,
    "_isFastLaunch": false,
    "category": "General purpose",
    "gpuNum": 0,
    "hideHardwareSpecs": false,
    "memoryGiB": 384,
    "name": "ml.m5.24xlarge",
    "vcpuNum": 96
   },
   {
    "_defaultOrder": 12,
    "_isFastLaunch": false,
    "category": "General purpose",
    "gpuNum": 0,
    "hideHardwareSpecs": false,
    "memoryGiB": 8,
    "name": "ml.m5d.large",
    "vcpuNum": 2
   },
   {
    "_defaultOrder": 13,
    "_isFastLaunch": false,
    "category": "General purpose",
    "gpuNum": 0,
    "hideHardwareSpecs": false,
    "memoryGiB": 16,
    "name": "ml.m5d.xlarge",
    "vcpuNum": 4
   },
   {
    "_defaultOrder": 14,
    "_isFastLaunch": false,
    "category": "General purpose",
    "gpuNum": 0,
    "hideHardwareSpecs": false,
    "memoryGiB": 32,
    "name": "ml.m5d.2xlarge",
    "vcpuNum": 8
   },
   {
    "_defaultOrder": 15,
    "_isFastLaunch": false,
    "category": "General purpose",
    "gpuNum": 0,
    "hideHardwareSpecs": false,
    "memoryGiB": 64,
    "name": "ml.m5d.4xlarge",
    "vcpuNum": 16
   },
   {
    "_defaultOrder": 16,
    "_isFastLaunch": false,
    "category": "General purpose",
    "gpuNum": 0,
    "hideHardwareSpecs": false,
    "memoryGiB": 128,
    "name": "ml.m5d.8xlarge",
    "vcpuNum": 32
   },
   {
    "_defaultOrder": 17,
    "_isFastLaunch": false,
    "category": "General purpose",
    "gpuNum": 0,
    "hideHardwareSpecs": false,
    "memoryGiB": 192,
    "name": "ml.m5d.12xlarge",
    "vcpuNum": 48
   },
   {
    "_defaultOrder": 18,
    "_isFastLaunch": false,
    "category": "General purpose",
    "gpuNum": 0,
    "hideHardwareSpecs": false,
    "memoryGiB": 256,
    "name": "ml.m5d.16xlarge",
    "vcpuNum": 64
   },
   {
    "_defaultOrder": 19,
    "_isFastLaunch": false,
    "category": "General purpose",
    "gpuNum": 0,
    "hideHardwareSpecs": false,
    "memoryGiB": 384,
    "name": "ml.m5d.24xlarge",
    "vcpuNum": 96
   },
   {
    "_defaultOrder": 20,
    "_isFastLaunch": false,
    "category": "General purpose",
    "gpuNum": 0,
    "hideHardwareSpecs": true,
    "memoryGiB": 0,
    "name": "ml.geospatial.interactive",
    "supportedImageNames": [
     "sagemaker-geospatial-v1-0"
    ],
    "vcpuNum": 0
   },
   {
    "_defaultOrder": 21,
    "_isFastLaunch": true,
    "category": "Compute optimized",
    "gpuNum": 0,
    "hideHardwareSpecs": false,
    "memoryGiB": 4,
    "name": "ml.c5.large",
    "vcpuNum": 2
   },
   {
    "_defaultOrder": 22,
    "_isFastLaunch": false,
    "category": "Compute optimized",
    "gpuNum": 0,
    "hideHardwareSpecs": false,
    "memoryGiB": 8,
    "name": "ml.c5.xlarge",
    "vcpuNum": 4
   },
   {
    "_defaultOrder": 23,
    "_isFastLaunch": false,
    "category": "Compute optimized",
    "gpuNum": 0,
    "hideHardwareSpecs": false,
    "memoryGiB": 16,
    "name": "ml.c5.2xlarge",
    "vcpuNum": 8
   },
   {
    "_defaultOrder": 24,
    "_isFastLaunch": false,
    "category": "Compute optimized",
    "gpuNum": 0,
    "hideHardwareSpecs": false,
    "memoryGiB": 32,
    "name": "ml.c5.4xlarge",
    "vcpuNum": 16
   },
   {
    "_defaultOrder": 25,
    "_isFastLaunch": false,
    "category": "Compute optimized",
    "gpuNum": 0,
    "hideHardwareSpecs": false,
    "memoryGiB": 72,
    "name": "ml.c5.9xlarge",
    "vcpuNum": 36
   },
   {
    "_defaultOrder": 26,
    "_isFastLaunch": false,
    "category": "Compute optimized",
    "gpuNum": 0,
    "hideHardwareSpecs": false,
    "memoryGiB": 96,
    "name": "ml.c5.12xlarge",
    "vcpuNum": 48
   },
   {
    "_defaultOrder": 27,
    "_isFastLaunch": false,
    "category": "Compute optimized",
    "gpuNum": 0,
    "hideHardwareSpecs": false,
    "memoryGiB": 144,
    "name": "ml.c5.18xlarge",
    "vcpuNum": 72
   },
   {
    "_defaultOrder": 28,
    "_isFastLaunch": false,
    "category": "Compute optimized",
    "gpuNum": 0,
    "hideHardwareSpecs": false,
    "memoryGiB": 192,
    "name": "ml.c5.24xlarge",
    "vcpuNum": 96
   },
   {
    "_defaultOrder": 29,
    "_isFastLaunch": true,
    "category": "Accelerated computing",
    "gpuNum": 1,
    "hideHardwareSpecs": false,
    "memoryGiB": 16,
    "name": "ml.g4dn.xlarge",
    "vcpuNum": 4
   },
   {
    "_defaultOrder": 30,
    "_isFastLaunch": false,
    "category": "Accelerated computing",
    "gpuNum": 1,
    "hideHardwareSpecs": false,
    "memoryGiB": 32,
    "name": "ml.g4dn.2xlarge",
    "vcpuNum": 8
   },
   {
    "_defaultOrder": 31,
    "_isFastLaunch": false,
    "category": "Accelerated computing",
    "gpuNum": 1,
    "hideHardwareSpecs": false,
    "memoryGiB": 64,
    "name": "ml.g4dn.4xlarge",
    "vcpuNum": 16
   },
   {
    "_defaultOrder": 32,
    "_isFastLaunch": false,
    "category": "Accelerated computing",
    "gpuNum": 1,
    "hideHardwareSpecs": false,
    "memoryGiB": 128,
    "name": "ml.g4dn.8xlarge",
    "vcpuNum": 32
   },
   {
    "_defaultOrder": 33,
    "_isFastLaunch": false,
    "category": "Accelerated computing",
    "gpuNum": 4,
    "hideHardwareSpecs": false,
    "memoryGiB": 192,
    "name": "ml.g4dn.12xlarge",
    "vcpuNum": 48
   },
   {
    "_defaultOrder": 34,
    "_isFastLaunch": false,
    "category": "Accelerated computing",
    "gpuNum": 1,
    "hideHardwareSpecs": false,
    "memoryGiB": 256,
    "name": "ml.g4dn.16xlarge",
    "vcpuNum": 64
   },
   {
    "_defaultOrder": 35,
    "_isFastLaunch": false,
    "category": "Accelerated computing",
    "gpuNum": 1,
    "hideHardwareSpecs": false,
    "memoryGiB": 61,
    "name": "ml.p3.2xlarge",
    "vcpuNum": 8
   },
   {
    "_defaultOrder": 36,
    "_isFastLaunch": false,
    "category": "Accelerated computing",
    "gpuNum": 4,
    "hideHardwareSpecs": false,
    "memoryGiB": 244,
    "name": "ml.p3.8xlarge",
    "vcpuNum": 32
   },
   {
    "_defaultOrder": 37,
    "_isFastLaunch": false,
    "category": "Accelerated computing",
    "gpuNum": 8,
    "hideHardwareSpecs": false,
    "memoryGiB": 488,
    "name": "ml.p3.16xlarge",
    "vcpuNum": 64
   },
   {
    "_defaultOrder": 38,
    "_isFastLaunch": false,
    "category": "Accelerated computing",
    "gpuNum": 8,
    "hideHardwareSpecs": false,
    "memoryGiB": 768,
    "name": "ml.p3dn.24xlarge",
    "vcpuNum": 96
   },
   {
    "_defaultOrder": 39,
    "_isFastLaunch": false,
    "category": "Memory Optimized",
    "gpuNum": 0,
    "hideHardwareSpecs": false,
    "memoryGiB": 16,
    "name": "ml.r5.large",
    "vcpuNum": 2
   },
   {
    "_defaultOrder": 40,
    "_isFastLaunch": false,
    "category": "Memory Optimized",
    "gpuNum": 0,
    "hideHardwareSpecs": false,
    "memoryGiB": 32,
    "name": "ml.r5.xlarge",
    "vcpuNum": 4
   },
   {
    "_defaultOrder": 41,
    "_isFastLaunch": false,
    "category": "Memory Optimized",
    "gpuNum": 0,
    "hideHardwareSpecs": false,
    "memoryGiB": 64,
    "name": "ml.r5.2xlarge",
    "vcpuNum": 8
   },
   {
    "_defaultOrder": 42,
    "_isFastLaunch": false,
    "category": "Memory Optimized",
    "gpuNum": 0,
    "hideHardwareSpecs": false,
    "memoryGiB": 128,
    "name": "ml.r5.4xlarge",
    "vcpuNum": 16
   },
   {
    "_defaultOrder": 43,
    "_isFastLaunch": false,
    "category": "Memory Optimized",
    "gpuNum": 0,
    "hideHardwareSpecs": false,
    "memoryGiB": 256,
    "name": "ml.r5.8xlarge",
    "vcpuNum": 32
   },
   {
    "_defaultOrder": 44,
    "_isFastLaunch": false,
    "category": "Memory Optimized",
    "gpuNum": 0,
    "hideHardwareSpecs": false,
    "memoryGiB": 384,
    "name": "ml.r5.12xlarge",
    "vcpuNum": 48
   },
   {
    "_defaultOrder": 45,
    "_isFastLaunch": false,
    "category": "Memory Optimized",
    "gpuNum": 0,
    "hideHardwareSpecs": false,
    "memoryGiB": 512,
    "name": "ml.r5.16xlarge",
    "vcpuNum": 64
   },
   {
    "_defaultOrder": 46,
    "_isFastLaunch": false,
    "category": "Memory Optimized",
    "gpuNum": 0,
    "hideHardwareSpecs": false,
    "memoryGiB": 768,
    "name": "ml.r5.24xlarge",
    "vcpuNum": 96
   },
   {
    "_defaultOrder": 47,
    "_isFastLaunch": false,
    "category": "Accelerated computing",
    "gpuNum": 1,
    "hideHardwareSpecs": false,
    "memoryGiB": 16,
    "name": "ml.g5.xlarge",
    "vcpuNum": 4
   },
   {
    "_defaultOrder": 48,
    "_isFastLaunch": false,
    "category": "Accelerated computing",
    "gpuNum": 1,
    "hideHardwareSpecs": false,
    "memoryGiB": 32,
    "name": "ml.g5.2xlarge",
    "vcpuNum": 8
   },
   {
    "_defaultOrder": 49,
    "_isFastLaunch": false,
    "category": "Accelerated computing",
    "gpuNum": 1,
    "hideHardwareSpecs": false,
    "memoryGiB": 64,
    "name": "ml.g5.4xlarge",
    "vcpuNum": 16
   },
   {
    "_defaultOrder": 50,
    "_isFastLaunch": false,
    "category": "Accelerated computing",
    "gpuNum": 1,
    "hideHardwareSpecs": false,
    "memoryGiB": 128,
    "name": "ml.g5.8xlarge",
    "vcpuNum": 32
   },
   {
    "_defaultOrder": 51,
    "_isFastLaunch": false,
    "category": "Accelerated computing",
    "gpuNum": 1,
    "hideHardwareSpecs": false,
    "memoryGiB": 256,
    "name": "ml.g5.16xlarge",
    "vcpuNum": 64
   },
   {
    "_defaultOrder": 52,
    "_isFastLaunch": false,
    "category": "Accelerated computing",
    "gpuNum": 4,
    "hideHardwareSpecs": false,
    "memoryGiB": 192,
    "name": "ml.g5.12xlarge",
    "vcpuNum": 48
   },
   {
    "_defaultOrder": 53,
    "_isFastLaunch": false,
    "category": "Accelerated computing",
    "gpuNum": 4,
    "hideHardwareSpecs": false,
    "memoryGiB": 384,
    "name": "ml.g5.24xlarge",
    "vcpuNum": 96
   },
   {
    "_defaultOrder": 54,
    "_isFastLaunch": false,
    "category": "Accelerated computing",
    "gpuNum": 8,
    "hideHardwareSpecs": false,
    "memoryGiB": 768,
    "name": "ml.g5.48xlarge",
    "vcpuNum": 192
   },
   {
    "_defaultOrder": 55,
    "_isFastLaunch": false,
    "category": "Accelerated computing",
    "gpuNum": 8,
    "hideHardwareSpecs": false,
    "memoryGiB": 1152,
    "name": "ml.p4d.24xlarge",
    "vcpuNum": 96
   },
   {
    "_defaultOrder": 56,
    "_isFastLaunch": false,
    "category": "Accelerated computing",
    "gpuNum": 8,
    "hideHardwareSpecs": false,
    "memoryGiB": 1152,
    "name": "ml.p4de.24xlarge",
    "vcpuNum": 96
   },
   {
    "_defaultOrder": 57,
    "_isFastLaunch": false,
    "category": "Accelerated computing",
    "gpuNum": 0,
    "hideHardwareSpecs": false,
    "memoryGiB": 32,
    "name": "ml.trn1.2xlarge",
    "vcpuNum": 8
   },
   {
    "_defaultOrder": 58,
    "_isFastLaunch": false,
    "category": "Accelerated computing",
    "gpuNum": 0,
    "hideHardwareSpecs": false,
    "memoryGiB": 512,
    "name": "ml.trn1.32xlarge",
    "vcpuNum": 128
   },
   {
    "_defaultOrder": 59,
    "_isFastLaunch": false,
    "category": "Accelerated computing",
    "gpuNum": 0,
    "hideHardwareSpecs": false,
    "memoryGiB": 512,
    "name": "ml.trn1n.32xlarge",
    "vcpuNum": 128
   }
  ],
  "instance_type": "ml.m5.large",
  "kernelspec": {
   "display_name": "PySpark (SparkMagic)",
   "language": "python",
   "name": "pysparkkernel__SAGEMAKER_INTERNAL__arn:aws:sagemaker:us-east-1:081325390199:image/sagemaker-sparkmagic"
  },
  "language_info": {
   "codemirror_mode": {
    "name": "python",
    "version": 3
   },
   "file_extension": ".py",
   "mimetype": "text/x-python",
   "name": "pyspark",
   "pygments_lexer": "python3"
  }
 },
 "nbformat": 4,
 "nbformat_minor": 4
}
